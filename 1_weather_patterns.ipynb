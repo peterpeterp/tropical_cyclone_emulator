{
 "cells": [
  {
   "cell_type": "markdown",
   "metadata": {
    "collapsed": false
   },
   "source": [
    "## Importing and setting up paths"
   ]
  },
  {
   "cell_type": "code",
   "execution_count": 1,
   "metadata": {
    "collapsed": false
   },
   "outputs": [],
   "source": [
    "import sys,os,importlib,gc\n",
    "import xarray as xr\n",
    "import numpy as np\n",
    "import pandas as pd\n",
    "\n",
    "%matplotlib inline\n",
    "import matplotlib\n",
    "import matplotlib.pyplot as plt\n",
    "from matplotlib.backends.backend_pdf import PdfPages\n",
    "\n",
    "os.chdir('/Users/peterpfleiderer/Projects/tropical_cyclones/tc_emulator/results')\n",
    "\n",
    "sys.path.append('../scripts')\n",
    "import _weather_pattern_class; importlib.reload(_weather_pattern_class)\n",
    "\n",
    "atl = _weather_pattern_class.weather_patterns(source='ERA5', working_directory='./')"
   ]
  },
  {
   "cell_type": "markdown",
   "metadata": {
    "collapsed": false
   },
   "source": [
    "## Prepare weather patterns"
   ]
  },
  {
   "cell_type": "markdown",
   "metadata": {
    "collapsed": false
   },
   "source": [
    "### prepare input\n",
    "\n",
    "here the raw data is loaded and some preprocessing is applied:\n",
    "\n",
    "* select ASO\n",
    "* compute standardized anomalies\n",
    "* regrid to 2.5x2.5 over 90W-10W and 10N-30N"
   ]
  },
  {
   "cell_type": "code",
   "execution_count": 133,
   "metadata": {
    "collapsed": false
   },
   "outputs": [],
   "source": [
    "# load MSLP and VWS\n",
    "# these fields were preprocessed using the scripts in input_data_preparation\n",
    "tmp = xr.load_dataset('/Users/peterpfleiderer/Projects/data/ERA5/ERA5_vws_1950-2019_daily_noTC3.nc')['vws'].loc['1950':'2020']\n",
    "atl.add_data(tmp, 'VWS', 'PRGn_r')\n",
    "tmp = xr.load_dataset('/Users/peterpfleiderer/Projects/data/ERA5/ERA5_msl_1950-2019_daily_noTC3.nc')['msl'].loc['1950':'2020']\n",
    "atl.add_data(tmp, 'MSLP', 'RdBu_r')"
   ]
  },
  {
   "cell_type": "code",
   "execution_count": 134,
   "metadata": {
    "collapsed": false
   },
   "outputs": [
    {
     "name": "stdout",
     "output_type": "stream",
     "text": [
      "Reuse existing file: bilinear_40x120_8x32.nc\n",
      "Reuse existing file: bilinear_40x120_8x32.nc\n"
     ]
    }
   ],
   "source": [
    "# the input is transformed to standardized anomalies and only the ASO season is considered\n",
    "atl.preprocess_select_months(months=[8,9,10], month_colors=['#bfef45','#ffe119','#f58231'])\n",
    "atl.preprocess_standardized_anomalies(['1981','2010'])\n",
    "atl.preprocess_regrid(reference_lats=np.arange(10, 30, 2.5),reference_lons=np.arange(-90, -10, 2.5))\n",
    "atl.preprocess_create_vector(variables = ['VWS','MSLP'])\n",
    "atl.store_input('ERA5_VWS-MSLP_noTC3')"
   ]
  },
  {
   "cell_type": "markdown",
   "metadata": {
    "collapsed": false
   },
   "source": [
    "### load input"
   ]
  },
  {
   "cell_type": "code",
   "execution_count": 2,
   "metadata": {
    "collapsed": false
   },
   "outputs": [],
   "source": [
    "atl.load_input('ERA5_VWS-MSLP_noTC3')\n",
    "years = np.array(range(1979,2019))\n",
    "atl.set_split(years=years)"
   ]
  },
  {
   "cell_type": "markdown",
   "metadata": {
    "collapsed": false
   },
   "source": [
    "### Sammon mapping and kmeans clsutering\n",
    "\n",
    "The sammon mapping can be useful for vizualisation purposes.\\\n",
    "Additionally, it is used here as input for a kmeans clustering.\\\n",
    "This kmeans clustering is later used as initialization for the SOM clustering.\n"
   ]
  },
  {
   "cell_type": "code",
   "execution_count": 147,
   "metadata": {
    "collapsed": false
   },
   "outputs": [],
   "source": [
    "import sys\n",
    "from sklearn import manifold\n",
    "sys.path.append('/Users/peterpfleiderer/Projects/git-packages/sammon')\n",
    "from sammon import sammon\n",
    "\n",
    "def mapping_sammon(X):\n",
    "    [sammon_proj,E] = sammon(X, 2, display=0, init='pca')\n",
    "    return sammon_proj,{'error':E}\n",
    "\n",
    "atl.mapping_wrapper(mapping_sammon, tag='mapping_sammon')\n",
    "atl.load_mapping('mapping_sammon')\n",
    "atl.plot_mapping()"
   ]
  },
  {
   "cell_type": "code",
   "execution_count": 148,
   "metadata": {
    "collapsed": false
   },
   "outputs": [
    {
     "name": "stdout",
     "output_type": "stream",
     "text": [
      "{}\n",
      ".//ERA5_VWS-MSLP_noTC3/mapping_sammon_1979-2018/clustering_kmeans20/mapping_sammon_1979-2018/grid_5x4\n"
     ]
    }
   ],
   "source": [
    "from sklearn import cluster\n",
    "def clustering_kmeans(X):\n",
    "    clustering_ = cluster.KMeans(init='k-means++', n_clusters=20, n_init=100)\n",
    "    clustering_.fit(X)\n",
    "    return {'centers_map':clustering_.cluster_centers_}\n",
    "\n",
    "nrows,ncols = 5,4\n",
    "atl.load_mapping('mapping_sammon')\n",
    "atl.clustering_wrapper(clustering_kmeans, tag='clustering_kmeans20', overwrite=True)\n",
    "atl.define_plot_environment(pre_mapping='mapping_sammon', clustering='clustering_kmeans20', post_mapping='mapping_sammon_1979-2018', nrows=nrows, ncols=ncols)"
   ]
  },
  {
   "cell_type": "markdown",
   "metadata": {
    "collapsed": false
   },
   "source": [
    "### SOM weather patterns\n",
    "\n",
    "Weather patterns are obtained from **S**elf **O**rganizing **M**aps \\\n",
    "As mentioned above the knmeans clsuters are used as initialization. \\\n",
    "This is a hack that avoids having to choose weather patterns from different initializations. \\\n",
    "It therefore seemed more robust to me but there would be numerous evenly reasonable alternatives."
   ]
  },
  {
   "cell_type": "code",
   "execution_count": 159,
   "metadata": {
    "collapsed": false
   },
   "outputs": [
    {
     "name": "stdout",
     "output_type": "stream",
     "text": [
      "{}\n",
      ".//ERA5_VWS-MSLP_noTC3/mapping_sammon_1979-2018/clustering_kmeans20/mapping_sammon_1979-2018/grid_5x4\n"
     ]
    }
   ],
   "source": [
    "from minisom import MiniSom\n",
    "from sklearn.metrics import pairwise_distances\n",
    "\n",
    "def SOM_(X):\n",
    "    # this is a bit of a hack:\n",
    "    # I get the the centers from my kmeans clusters\n",
    "    # than I initialize a SOM object from MiniSom\n",
    "    # I create some pca_weights that I directly replace by my cluster centers from the kmeans clustering\n",
    "\tatl.define_plot_environment(pre_mapping='mapping_sammon', clustering='clustering_kmeans20', post_mapping='mapping_sammon_1979-2018', nrows=nrows, ncols=ncols)\n",
    "\tinit_centers = atl._clust_centers.copy()\n",
    "\tinit_grid = atl._axes_grid\n",
    "\tatl.load_mapping('mapping_raw')\n",
    "\tatl._dir_lvl2 = atl._dir_lvl0+'/'+ 'mapping_raw'+atl._split_tag + '/' + tag\n",
    "\tatl.load_mapping_for_plotting('mapping_sammon_1979-2018')\n",
    "\n",
    "\tsom = MiniSom(nrows,ncols,X.shape[1], random_seed=1, sigma=1,learning_rate=0.01)\n",
    "\tsom.pca_weights_init(atl._vector.values)\n",
    "\tfor i,lab in enumerate(np.unique(atl._clust_labels)):\n",
    "\t\tsom._weights[atl._axes_grid[atl._grid_labels==lab,0][0],atl._axes_grid[atl._grid_labels==lab,1][0]] = init_centers.values[i,:]\n",
    "\n",
    "\twith PdfPages(atl._dir_lvl2+'/training_network.pdf') as pdf:\n",
    "\t\tfor i in range(100):\n",
    "\t\t\tatl._clust_labels = pairwise_distances(som.get_weights().reshape((nrows*ncols,X.shape[1])),atl._pre_mapping[:,:]).argmin(axis=0)\n",
    "\t\t\tatl.map_cluster_centers(overwrite=True)\n",
    "\t\t\tfig,ax = plt.subplots(nrows=1, ncols=1, figsize=(4,3)); ax.axis('off')\n",
    "\t\t\tatl.plot_network_ax(ax)\n",
    "\t\t\tpdf.savefig(bbox_inches='tight'); plt.close()\n",
    "\t\t\tsom.train_random(X, 10000, verbose=False)\n",
    "\t\t\tsom._weights = som.get_weights()\n",
    "\t\t\tgc.collect()\n",
    "\n",
    "\tout = {'centers_map':som.get_weights().reshape((nrows*ncols,X.shape[1])), 'other_results':{'SOM':som}}\n",
    "\treturn out\n",
    "\n",
    "nrows,ncols = 5,4\n",
    "tag = 'SOM_kmeansInit%sx%s_v1' % (nrows,ncols)\n",
    "atl.mapping_raw()\n",
    "atl.clustering_wrapper(SOM_, tag=tag, overwrite=True)"
   ]
  },
  {
   "cell_type": "markdown",
   "metadata": {
    "collapsed": false
   },
   "source": [
    "#### Load weather patterns"
   ]
  },
  {
   "cell_type": "code",
   "execution_count": 3,
   "metadata": {
    "collapsed": false
   },
   "outputs": [
    {
     "name": "stdout",
     "output_type": "stream",
     "text": [
      "{'SOM': <minisom.MiniSom object at 0x7ff627ab2090>}\n",
      ".//ERA5_VWS-MSLP_noTC3/mapping_raw_1979-2018/SOM_kmeansInit5x4_v1/mapping_sammon_1979-2018/grid_5x4\n"
     ]
    }
   ],
   "source": [
    "nrows,ncols = 5,4\n",
    "tag = 'SOM_kmeansInit%sx%s_v1' % (nrows,ncols)\n",
    "atl.define_plot_environment(pre_mapping='mapping_raw', clustering=tag, post_mapping='mapping_sammon_1979-2018', nrows=nrows, ncols=ncols)\n",
    "atl.stats_TC(file='tracks/tracks_ibtracks.csv', overwrite=False)"
   ]
  },
  {
   "cell_type": "code",
   "execution_count": 171,
   "metadata": {
    "collapsed": false
   },
   "outputs": [],
   "source": [
    "atl.stats_frequency()\n",
    "atl.plot_freq()\n",
    "atl.plot_fields()\n",
    "atl.plot_label_trend()\n",
    "\n",
    "# scatter plot\n",
    "atl.plot_events(indicator='wind', legend_values=[64,96,137], legend_name='wind speed [kn]')\n",
    "atl.plot_events(indicator='ACE')\n",
    "\n",
    "# lagged stats\n",
    "atl.plot_stats(indicator='ACE')\n",
    "atl.plot_stats(indicator='genesis')"
   ]
  }
 ],
 "metadata": {
  "kernelspec": {
   "argv": [
    "/Users/peterpfleiderer/miniconda2/envs/py_tcs/bin/python",
    "-m",
    "ipykernel_launcher",
    "-f",
    "{connection_file}"
   ],
   "display_name": "py_tcs",
   "env": null,
   "interrupt_mode": "signal",
   "language": "python",
   "metadata": null,
   "name": "py_tcs"
  },
  "language_info": {
   "codemirror_mode": {
    "name": "ipython",
    "version": 3
   },
   "file_extension": ".py",
   "mimetype": "text/x-python",
   "name": "python",
   "nbconvert_exporter": "python",
   "pygments_lexer": "ipython3",
   "version": "3.7.6"
  },
  "name": "1_weather_patterns.ipynb"
 },
 "nbformat": 4,
 "nbformat_minor": 2
}
