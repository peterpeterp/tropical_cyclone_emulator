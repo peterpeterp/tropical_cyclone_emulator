{
 "cells": [
  {
   "cell_type": "code",
   "execution_count": 1,
   "metadata": {
    "collapsed": false
   },
   "outputs": [],
   "source": [
    "import sys,os,importlib,gc,string\n",
    "import xarray as xr\n",
    "import numpy as np\n",
    "import pandas as pd\n",
    "from rich.jupyter import print\n",
    "\n",
    "import matplotlib\n",
    "%matplotlib inline\n",
    "import matplotlib.pyplot as plt\n",
    "\n",
    "os.chdir('/Users/peterpfleiderer/Projects/tropical_cyclones/tc_emulator/results')\n",
    "\n",
    "sys.path.append('../scripts')\n",
    "import _weather_pattern_class; importlib.reload(_weather_pattern_class)\n",
    "\n",
    "atl = _weather_pattern_class.weather_patterns(source='ERA5', working_directory='./')\n",
    "\n"
   ]
  },
  {
   "cell_type": "code",
   "execution_count": 2,
   "metadata": {
    "collapsed": false
   },
   "outputs": [],
   "source": [
    "atl.load_input('ERA5_VWS-MSLP_noTC3')\n",
    "all_years = np.array(range(1979,2019))\n",
    "atl.set_split(years=all_years)"
   ]
  },
  {
   "cell_type": "code",
   "execution_count": 3,
   "metadata": {
    "collapsed": false
   },
   "outputs": [
    {
     "name": "stdout",
     "output_type": "stream",
     "text": [
      "{'SOM': <minisom.MiniSom object at 0x7f80bd3a7f50>}\n",
      ".//ERA5_VWS-MSLP_noTC3/mapping_raw_1979-2018/SOM_kmeansInit5x4_v1/mapping_sammon_1979-2018/grid_5x4\n"
     ]
    }
   ],
   "source": [
    "nrows,ncols = 5,4\n",
    "tag = 'SOM_kmeansInit%sx%s_v1' % (nrows,ncols)\n",
    "atl.define_plot_environment(pre_mapping='mapping_raw', clustering=tag, post_mapping='mapping_sammon_1979-2018', nrows=nrows, ncols=ncols)\n",
    "atl.stats_TC(file='tracks/tracks_ibtracks.csv', overwrite=False)"
   ]
  },
  {
   "cell_type": "code",
   "execution_count": 4,
   "metadata": {
    "collapsed": false
   },
   "outputs": [],
   "source": [
    "years = np.arange(1982,2019,1)\n",
    "# get relative Atl. SST to tropics\n",
    "sst_MDR_rel = xr.load_dataset('/Users/peterpfleiderer/Projects/data/SST_MDR_mean/OISST_MDR_rel_to_tropics_1982-2019_daily.nc')['sst']\n",
    "sst_MDR_rel = sst_MDR_rel[np.isin(sst_MDR_rel.time.dt.year,years)]\n",
    "sst_MDR_rel = sst_MDR_rel[np.isin(sst_MDR_rel.time.dt.month,atl._months['mon'])]\n",
    "sst_MDR_rel.time.values = np.array([str(d)[:10] for d in sst_MDR_rel.time.values], np.datetime64)\n",
    "# get sst\n",
    "sst_MDR = xr.load_dataset('/Users/peterpfleiderer/Projects/data/SST_MDR_mean/OISST_sst_MDR_1981-2019_daily.nc')['sst']\n",
    "sst_MDR = sst_MDR[np.isin(sst_MDR.time.dt.year,years)]\n",
    "sst_MDR = sst_MDR[np.isin(sst_MDR.time.dt.month,atl._months['mon'])]\n",
    "sst_MDR.time.values = np.array([str(d)[:10] for d in sst_MDR.time.values], np.datetime64)\n",
    "# get sst\n",
    "sst_tropics = xr.load_dataset('/Users/peterpfleiderer/Projects/data/SST_MDR_mean/OISST_tropics_1982-2019_daily.nc')['sst']\n",
    "sst_tropics = sst_tropics[np.isin(sst_tropics.time.dt.year,years)]\n",
    "sst_tropics = sst_tropics[np.isin(sst_tropics.time.dt.month,atl._months['mon'])]\n",
    "sst_tropics.time.values = np.array([str(d)[:10] for d in sst_tropics.time.values], np.datetime64)\n",
    "# prepare tracks:\n",
    "# here ssts are added. this will be needed in the wind component\n",
    "atl._tracks = atl._tracks.loc[np.isin(atl._tracks.year,years)]\n",
    "times = np.array([str(d)[:10] for d in atl._tracks.time.values], np.datetime64)\n",
    "atl._tracks['time'] = np.array([str(d)[:10] for d in atl._tracks.time],np.datetime64)\n",
    "atl._tracks['sst'] = sst_MDR.loc[times].values\n",
    "atl._tracks['sst_rel'] = sst_MDR_rel.loc[times].values\n",
    "atl._tracks['sst_tropics'] = sst_tropics.loc[times].values\n",
    "atl._tracks['weather_0'] = atl._tracks['label_lag0']\n",
    "tracks = atl._tracks.loc[np.isfinite(atl._tracks.weather_0)]\n",
    "tracks = tracks.loc[tracks.distance2land > 0, ['weather_0','sst','sst_rel','sst_tropics','wind','genesis','storm','ACE','year','storm_day','wind_before','wind_change_before','wind_change','month']]\n",
    "\n",
    "# prepare gensis input\n",
    "# this is a dataframe with an entry for each day\n",
    "# this is required to get genesis probabilities\n",
    "weather_sst = pd.DataFrame()\n",
    "weather_sst['time'] =  np.array([str(d)[:10] for d in  atl._vector_time.values], np.datetime64)\n",
    "weather_sst['year'] = atl._vector_time.dt.year\n",
    "weather_sst['weather_0'] = atl._clust_labels\n",
    "weather_sst['weather_1'] = np.roll(atl._clust_labels,1)\n",
    "weather_sst['weather_2'] = np.roll(atl._clust_labels,2)\n",
    "weather_sst['weather_3'] = np.roll(atl._clust_labels,3)\n",
    "weather_sst = weather_sst.loc[np.isin(atl._vector_time.dt.year,years)]\n",
    "\n",
    "genesis = weather_sst.copy()\n",
    "genesis['genesis'] = [atl._tracks.loc[atl._tracks.time==np.datetime64(tt),'genesis'].sum() for tt in genesis.time]\n",
    "\n",
    "weather_sst['sst'] = sst_MDR.sel(time=weather_sst.time.values)\n",
    "weather_sst['sst_tropics'] = sst_tropics.sel(time=weather_sst.time.values)\n",
    "weather_sst['sst_rel'] = sst_MDR_rel.sel(time=weather_sst.time.values)\n",
    "\n",
    "genesis['day_in_season'] = 0\n",
    "weather_sst['day_in_season'] = 0\n",
    "for year in np.unique(weather_sst.time.dt.year):\n",
    "    tttmmmppp = weather_sst.loc[(weather_sst.time.dt.year==year),'day_in_season']\n",
    "    weather_sst.loc[(weather_sst.time.dt.year==year),'day_in_season'] = np.arange(tttmmmppp.shape[0])\n",
    "    genesis.loc[(genesis.time.dt.year==year),'day_in_season'] = np.arange(tttmmmppp.shape[0])\n",
    "\n",
    "weather_sst = weather_sst.loc[(weather_sst.day_in_season>=3) & np.isin(weather_sst.year,years)]\n",
    "genesis = genesis.loc[(genesis.day_in_season>=3) & np.isin(genesis.year,years)]\n",
    "\n",
    "# train test split by decades\n",
    "train_test = pd.DataFrame()\n",
    "train_test['year'] = list(range(1982,2019))\n",
    "train_test['1982-1988'] = 'train'\n",
    "train_test.loc[np.isin(train_test.year,np.arange(1982,1989)), '1982-1988'] = 'test'\n",
    "train_test['1989-1998'] = 'train'\n",
    "train_test.loc[np.isin(train_test.year,np.arange(1989,1999)), '1989-1998'] = 'test'\n",
    "train_test['1999-2008'] = 'train'\n",
    "train_test.loc[np.isin(train_test.year,np.arange(1999,2009)), '1999-2008'] = 'test'\n",
    "train_test['2009-2018'] = 'train'\n",
    "train_test.loc[np.isin(train_test.year,np.arange(2009,2019)), '2009-2018'] = 'test'"
   ]
  },
  {
   "cell_type": "code",
   "execution_count": 5,
   "metadata": {
    "collapsed": false
   },
   "outputs": [],
   "source": [
    "test_period = '2009-2018'\n",
    "train_years = train_test.loc[train_test[test_period]=='train', 'year'].values\n",
    "test_years = train_test.loc[train_test[test_period]=='test', 'year'].values\n",
    "train_folder = atl._dir_lvl4 + '/emulator/' + str(test_period)+'/'"
   ]
  },
  {
   "cell_type": "code",
   "execution_count": 6,
   "metadata": {
    "collapsed": false
   },
   "outputs": [],
   "source": [
    "# get SST changes over the MDR\n",
    "sst_hist = xr.open_dataset('/Users/peterpfleiderer/Projects/data/SST/HadISST_sst.nc')['sst'].loc[:,20:10,-90:-20]\n",
    "lat_weight = np.cos(np.deg2rad(sst_hist.latitude.values))\n",
    "lat_weight_array = np.repeat(lat_weight[np.newaxis,:], sst_hist.shape[2], 0).T\n",
    "valid = np.isfinite(sst_hist[0,:,:].values)\n",
    "sst_hist = xr.DataArray(np.nansum(sst_hist * lat_weight_array, axis=(1,2)) / np.sum(lat_weight_array[valid]), coords={'time':sst_hist.time}, dims=['time'])\n",
    "hadisst_MDR = sst_hist[np.isin(sst_hist.time.dt.month,[8,9,10])].groupby('time.year').mean('time')\n",
    "\n",
    "# yearly SSTS\n",
    "tmp = xr.open_dataset('/Users/peterpfleiderer/Projects/data/SST_MDR_mean/OISST_sst_MDR_1981-2019_daily.nc')['sst']\n",
    "oisst_MDR = tmp.loc[np.isin(tmp.time.dt.month,[8,9,10])].groupby('time.year').mean('time')[1:]\n",
    "\n",
    "# experiments\n",
    "plt.close('all')\n",
    "fig,ax = plt.subplots(nrows = 1)\n",
    "y = oisst_MDR\n",
    "import statsmodels.api as sm\n",
    "lr = sm.OLS(hadisst_MDR.values, sm.add_constant(hadisst_MDR.year.values)).fit()\n",
    "ax.plot(y.year, y, label='MDR observed', color='k')\n",
    "\n",
    "detrend = y - (lr.params[1] * y.year + lr.params[0])\n",
    "shift = lr.params[0] + lr.params[1] * 1982\n",
    "ax.plot(y.year, detrend + shift, label='MDR 1982 levels', color='c')\n",
    "shift = lr.params[0] + lr.params[1] * 2018\n",
    "ax.plot(y.year, detrend + shift, label='MDR 2018 levels', color='m')\n",
    "shift = lr.params[0] + lr.params[1] * 1900\n",
    "ax.plot(y.year, detrend + shift, label='MDR 1900 levels', color='g')\n",
    "ax.legend()\n",
    "plt.savefig(train_folder + '/SSTs_experiments_oisst_hadisst_trend.png')"
   ]
  },
  {
   "cell_type": "code",
   "execution_count": 7,
   "metadata": {
    "collapsed": false
   },
   "outputs": [],
   "source": [
    "import string"
   ]
  },
  {
   "cell_type": "code",
   "execution_count": 8,
   "metadata": {
    "collapsed": false
   },
   "outputs": [
    {
     "data": {
      "text/html": [
       "<pre style=\"white-space:pre;overflow-x:auto;line-height:normal;font-family:Menlo,'DejaVu Sans Mono',consolas,'Courier New',monospace\">gWeaLag2Weight_sLWeaNeigh_wS100nnQrSST_Emu0\n",
       "</pre>\n"
      ],
      "text/plain": [
       "gWeaLag2Weight_sLWeaNeigh_wS100nnQrSST_Emu0\n"
      ]
     },
     "metadata": {},
     "output_type": "display_data"
    }
   ],
   "source": [
    "# choose components\n",
    "alphabet = iter(list(string.ascii_lowercase))\n",
    "comps_todo = [\n",
    "    {'g':'gWeaLag2Weight', 'sL':'sLWeaNeigh', 'wS':'wS100nnQrSST', 'Emu':'Emu0', 'name':'main','l':next(alphabet),'c':'c'},\n",
    "    ]\n",
    "N = 1000\n",
    "years = range(1982,2019)\n",
    "overwrite = True\n",
    "for dt in comps_todo:\n",
    "    tag = '_'.join([dt[k] for k in ['g','sL','wS','Emu']])\n",
    "    print(tag)\n",
    "    import _emulator; importlib.reload(_emulator); from _emulator import *\n",
    "    for k,v in {k:v for k,v in dt.items() if k in ['g','sL','wS','Emu']}.items():\n",
    "        exec(\"import %s; importlib.reload(%s); from %s import *\" % tuple(['components.'+k+'.'+v]*3))\n",
    "    genesis_obj = pickle.load(open(train_folder+'/_comp_g_'+dt['g']+'/genesis_obj.pkl', 'rb'))\n",
    "    end_obj = pickle.load(open(train_folder+'/_comp_sL_'+dt['sL']+'/end_obj.pkl', 'rb'))\n",
    "    wind_obj = pickle.load(open(train_folder+'/_comp_wS_'+dt['wS']+'/wind_obj.pkl', 'rb'))\n",
    "    emu = storm_emulator(dir=train_folder, tag=tag, emulate_season_function=emulate_season_function)\n",
    "    emu._weather_sst = weather_sst\n",
    "    emu.get_stats_seasonal_obs(tracks, train_test.year.values)\n",
    "    counterFacts = {}\n",
    "    # all decades .....\n",
    "    for shift_year in [1900,1982,2018,0]:\n",
    "        for year in years:\n",
    "            if shift_year != 0:\n",
    "                sst_diff_counterfactual = float((lr.params[0] + lr.params[1] * shift_year) - (lr.params[0] + lr.params[1] * year))\n",
    "            else:\n",
    "                sst_diff_counterfactual = 0\n",
    "            # print(year, shift_year, sst_diff_counterfactual)\n",
    "            emu.simulate_sst_counterfactual(name='_%s_shift%s' %(year,shift_year), years=[year], sst_shift=sst_diff_counterfactual, N=N, genesis_obj=genesis_obj, wind_obj=wind_obj, end_obj=end_obj, overwrite=False)\n",
    "            # merged\n",
    "            if year == 1982:\n",
    "                counterFacts['%s SST levels' %(shift_year)] = emu._simu\n",
    "                counterFacts['%s SST levels' %(shift_year)]['sst'] = xr.DataArray(coords={'year':years}, dims=['year'])\n",
    "            else:\n",
    "                for indicator in emu._simu.keys():\n",
    "                    counterFacts['%s SST levels' %(shift_year)][indicator] = xr.concat((counterFacts['%s SST levels' %(shift_year)][indicator], emu._simu[indicator]), dim='year')\n",
    "\n",
    "            counterFacts['%s SST levels' %(shift_year)]['sst'].loc[year] = weather_sst.loc[weather_sst.year == year, 'sst'].mean() + sst_diff_counterfactual\n"
   ]
  },
  {
   "cell_type": "code",
   "execution_count": 9,
   "metadata": {
    "collapsed": false
   },
   "outputs": [],
   "source": [
    "counterFacts['%s SST levels' %(1900)].update({'color':'gray', 'lsty':':', 's':-0.3, 'label':'pre-industrial\\nSST levels'})\n",
    "counterFacts['%s SST levels' %(1982)].update({'color':'c', 'lsty':'--', 's':-0.0, 'label':'1982\\nSST levels'})\n",
    "counterFacts['%s SST levels' %(2018)].update({'color':'darkmagenta', 'lsty':'-', 's':0.3, 'label':'2018\\nSST levels'})\n",
    "counterFacts['%s SST levels' %(0)].update({'color':'k', 'lsty':'-', 's':0.1, 'label':'observed\\nSSTs'})"
   ]
  },
  {
   "cell_type": "code",
   "execution_count": 10,
   "metadata": {
    "collapsed": false
   },
   "outputs": [
    {
     "data": {
      "text/html": [
       "<pre style=\"white-space:pre;overflow-x:auto;line-height:normal;font-family:Menlo,'DejaVu Sans Mono',consolas,'Courier New',monospace\"><span style=\"color: #008080; text-decoration-color: #008080; font-weight: bold\">1900</span> SST levels SST average <span style=\"font-weight: bold\">&lt;</span><span style=\"color: #ff00ff; text-decoration-color: #ff00ff; font-weight: bold\">xarray.DataArray</span><span style=\"color: #000000; text-decoration-color: #000000\"> </span><span style=\"color: #000000; text-decoration-color: #000000; font-weight: bold\">()</span><span style=\"font-weight: bold\">&gt;</span>\n",
       "<span style=\"color: #800080; text-decoration-color: #800080; font-weight: bold\">array</span><span style=\"font-weight: bold\">(</span><span style=\"color: #008080; text-decoration-color: #008080; font-weight: bold\">27.44540243</span><span style=\"font-weight: bold\">)</span>\n",
       "</pre>\n"
      ],
      "text/plain": [
       "\u001b[1;36m1900\u001b[0m SST levels SST average \u001b[1m<\u001b[0m\u001b[1;95mxarray.DataArray\u001b[0m\u001b[39m \u001b[0m\u001b[1;39m(\u001b[0m\u001b[1;39m)\u001b[0m\u001b[1m>\u001b[0m\n",
       "\u001b[1;35marray\u001b[0m\u001b[1m(\u001b[0m\u001b[1;36m27.44540243\u001b[0m\u001b[1m)\u001b[0m\n"
      ]
     },
     "metadata": {},
     "output_type": "display_data"
    },
    {
     "data": {
      "text/html": [
       "<pre style=\"white-space:pre;overflow-x:auto;line-height:normal;font-family:Menlo,'DejaVu Sans Mono',consolas,'Courier New',monospace\"><span style=\"color: #008080; text-decoration-color: #008080; font-weight: bold\">1982</span> SST levels SST average <span style=\"font-weight: bold\">&lt;</span><span style=\"color: #ff00ff; text-decoration-color: #ff00ff; font-weight: bold\">xarray.DataArray</span><span style=\"color: #000000; text-decoration-color: #000000\"> </span><span style=\"color: #000000; text-decoration-color: #000000; font-weight: bold\">()</span><span style=\"font-weight: bold\">&gt;</span>\n",
       "<span style=\"color: #800080; text-decoration-color: #800080; font-weight: bold\">array</span><span style=\"font-weight: bold\">(</span><span style=\"color: #008080; text-decoration-color: #008080; font-weight: bold\">27.84219277</span><span style=\"font-weight: bold\">)</span>\n",
       "</pre>\n"
      ],
      "text/plain": [
       "\u001b[1;36m1982\u001b[0m SST levels SST average \u001b[1m<\u001b[0m\u001b[1;95mxarray.DataArray\u001b[0m\u001b[39m \u001b[0m\u001b[1;39m(\u001b[0m\u001b[1;39m)\u001b[0m\u001b[1m>\u001b[0m\n",
       "\u001b[1;35marray\u001b[0m\u001b[1m(\u001b[0m\u001b[1;36m27.84219277\u001b[0m\u001b[1m)\u001b[0m\n"
      ]
     },
     "metadata": {},
     "output_type": "display_data"
    },
    {
     "data": {
      "text/html": [
       "<pre style=\"white-space:pre;overflow-x:auto;line-height:normal;font-family:Menlo,'DejaVu Sans Mono',consolas,'Courier New',monospace\"><span style=\"color: #008080; text-decoration-color: #008080; font-weight: bold\">2018</span> SST levels SST average <span style=\"font-weight: bold\">&lt;</span><span style=\"color: #ff00ff; text-decoration-color: #ff00ff; font-weight: bold\">xarray.DataArray</span><span style=\"color: #000000; text-decoration-color: #000000\"> </span><span style=\"color: #000000; text-decoration-color: #000000; font-weight: bold\">()</span><span style=\"font-weight: bold\">&gt;</span>\n",
       "<span style=\"color: #800080; text-decoration-color: #800080; font-weight: bold\">array</span><span style=\"font-weight: bold\">(</span><span style=\"color: #008080; text-decoration-color: #008080; font-weight: bold\">28.01639341</span><span style=\"font-weight: bold\">)</span>\n",
       "</pre>\n"
      ],
      "text/plain": [
       "\u001b[1;36m2018\u001b[0m SST levels SST average \u001b[1m<\u001b[0m\u001b[1;95mxarray.DataArray\u001b[0m\u001b[39m \u001b[0m\u001b[1;39m(\u001b[0m\u001b[1;39m)\u001b[0m\u001b[1m>\u001b[0m\n",
       "\u001b[1;35marray\u001b[0m\u001b[1m(\u001b[0m\u001b[1;36m28.01639341\u001b[0m\u001b[1m)\u001b[0m\n"
      ]
     },
     "metadata": {},
     "output_type": "display_data"
    },
    {
     "data": {
      "text/html": [
       "<pre style=\"white-space:pre;overflow-x:auto;line-height:normal;font-family:Menlo,'DejaVu Sans Mono',consolas,'Courier New',monospace\"><span style=\"color: #008080; text-decoration-color: #008080; font-weight: bold\">0</span> SST levels SST average <span style=\"font-weight: bold\">&lt;</span><span style=\"color: #ff00ff; text-decoration-color: #ff00ff; font-weight: bold\">xarray.DataArray</span><span style=\"color: #000000; text-decoration-color: #000000\"> </span><span style=\"color: #000000; text-decoration-color: #000000; font-weight: bold\">()</span><span style=\"font-weight: bold\">&gt;</span>\n",
       "<span style=\"color: #800080; text-decoration-color: #800080; font-weight: bold\">array</span><span style=\"font-weight: bold\">(</span><span style=\"color: #008080; text-decoration-color: #008080; font-weight: bold\">27.92929309</span><span style=\"font-weight: bold\">)</span>\n",
       "</pre>\n"
      ],
      "text/plain": [
       "\u001b[1;36m0\u001b[0m SST levels SST average \u001b[1m<\u001b[0m\u001b[1;95mxarray.DataArray\u001b[0m\u001b[39m \u001b[0m\u001b[1;39m(\u001b[0m\u001b[1;39m)\u001b[0m\u001b[1m>\u001b[0m\n",
       "\u001b[1;35marray\u001b[0m\u001b[1m(\u001b[0m\u001b[1;36m27.92929309\u001b[0m\u001b[1m)\u001b[0m\n"
      ]
     },
     "metadata": {},
     "output_type": "display_data"
    },
    {
     "data": {
      "text/html": [
       "<pre style=\"white-space:pre;overflow-x:auto;line-height:normal;font-family:Menlo,'DejaVu Sans Mono',consolas,'Courier New',monospace\"><span style=\"color: #008080; text-decoration-color: #008080; font-weight: bold\">2018</span> SST levels all years <span style=\"font-weight: bold\">[</span> <span style=\"color: #008080; text-decoration-color: #008080; font-weight: bold\">22.04</span>    <span style=\"color: #008080; text-decoration-color: #008080; font-weight: bold\">40.24</span>    <span style=\"color: #008080; text-decoration-color: #008080; font-weight: bold\">80.16</span>   <span style=\"color: #008080; text-decoration-color: #008080; font-weight: bold\">141.1668</span> <span style=\"color: #008080; text-decoration-color: #008080; font-weight: bold\">198.922</span> <span style=\"font-weight: bold\">]</span>\n",
       "</pre>\n"
      ],
      "text/plain": [
       "\u001b[1;36m2018\u001b[0m SST levels all years \u001b[1m[\u001b[0m \u001b[1;36m22.04\u001b[0m    \u001b[1;36m40.24\u001b[0m    \u001b[1;36m80.16\u001b[0m   \u001b[1;36m141.1668\u001b[0m \u001b[1;36m198.922\u001b[0m \u001b[1m]\u001b[0m\n"
      ]
     },
     "metadata": {},
     "output_type": "display_data"
    },
    {
     "data": {
      "text/html": [
       "<pre style=\"white-space:pre;overflow-x:auto;line-height:normal;font-family:Menlo,'DejaVu Sans Mono',consolas,'Courier New',monospace\"><span style=\"color: #008080; text-decoration-color: #008080; font-weight: bold\">2018</span> SST levels favorable large scale conditions <span style=\"font-weight: bold\">[</span> <span style=\"color: #008080; text-decoration-color: #008080; font-weight: bold\">68.878</span>   <span style=\"color: #008080; text-decoration-color: #008080; font-weight: bold\">99.4</span>    <span style=\"color: #008080; text-decoration-color: #008080; font-weight: bold\">149.66</span>   <span style=\"color: #008080; text-decoration-color: #008080; font-weight: bold\">215.2136</span> <span style=\"color: #008080; text-decoration-color: #008080; font-weight: bold\">271.888</span>\n",
       "<span style=\"font-weight: bold\">]</span>\n",
       "</pre>\n"
      ],
      "text/plain": [
       "\u001b[1;36m2018\u001b[0m SST levels favorable large scale conditions \u001b[1m[\u001b[0m \u001b[1;36m68.878\u001b[0m   \u001b[1;36m99.4\u001b[0m    \u001b[1;36m149.66\u001b[0m   \u001b[1;36m215.2136\u001b[0m \u001b[1;36m271.888\u001b[0m\n",
       "\u001b[1m]\u001b[0m\n"
      ]
     },
     "metadata": {},
     "output_type": "display_data"
    },
    {
     "data": {
      "text/html": [
       "<pre style=\"white-space:pre;overflow-x:auto;line-height:normal;font-family:Menlo,'DejaVu Sans Mono',consolas,'Courier New',monospace\"><span style=\"color: #008080; text-decoration-color: #008080; font-weight: bold\">1982</span> SST levels all years <span style=\"font-weight: bold\">[</span> <span style=\"color: #008080; text-decoration-color: #008080; font-weight: bold\">21.04</span>    <span style=\"color: #008080; text-decoration-color: #008080; font-weight: bold\">37.9932</span>  <span style=\"color: #008080; text-decoration-color: #008080; font-weight: bold\">75.52</span>   <span style=\"color: #008080; text-decoration-color: #008080; font-weight: bold\">134.8468</span> <span style=\"color: #008080; text-decoration-color: #008080; font-weight: bold\">189.682</span> <span style=\"font-weight: bold\">]</span>\n",
       "</pre>\n"
      ],
      "text/plain": [
       "\u001b[1;36m1982\u001b[0m SST levels all years \u001b[1m[\u001b[0m \u001b[1;36m21.04\u001b[0m    \u001b[1;36m37.9932\u001b[0m  \u001b[1;36m75.52\u001b[0m   \u001b[1;36m134.8468\u001b[0m \u001b[1;36m189.682\u001b[0m \u001b[1m]\u001b[0m\n"
      ]
     },
     "metadata": {},
     "output_type": "display_data"
    },
    {
     "data": {
      "text/html": [
       "<pre style=\"white-space:pre;overflow-x:auto;line-height:normal;font-family:Menlo,'DejaVu Sans Mono',consolas,'Courier New',monospace\"><span style=\"color: #008080; text-decoration-color: #008080; font-weight: bold\">1982</span> SST levels favorable large scale conditions <span style=\"font-weight: bold\">[</span> <span style=\"color: #008080; text-decoration-color: #008080; font-weight: bold\">62.76</span>    <span style=\"color: #008080; text-decoration-color: #008080; font-weight: bold\">92.4</span>    <span style=\"color: #008080; text-decoration-color: #008080; font-weight: bold\">141.66</span>   <span style=\"color: #008080; text-decoration-color: #008080; font-weight: bold\">201.9268</span> <span style=\"color: #008080; text-decoration-color: #008080; font-weight: bold\">253.44</span> \n",
       "<span style=\"font-weight: bold\">]</span>\n",
       "</pre>\n"
      ],
      "text/plain": [
       "\u001b[1;36m1982\u001b[0m SST levels favorable large scale conditions \u001b[1m[\u001b[0m \u001b[1;36m62.76\u001b[0m    \u001b[1;36m92.4\u001b[0m    \u001b[1;36m141.66\u001b[0m   \u001b[1;36m201.9268\u001b[0m \u001b[1;36m253.44\u001b[0m \n",
       "\u001b[1m]\u001b[0m\n"
      ]
     },
     "metadata": {},
     "output_type": "display_data"
    },
    {
     "data": {
      "text/html": [
       "<pre style=\"white-space:pre;overflow-x:auto;line-height:normal;font-family:Menlo,'DejaVu Sans Mono',consolas,'Courier New',monospace\"><span style=\"color: #008080; text-decoration-color: #008080; font-weight: bold\">1900</span> SST levels all years <span style=\"font-weight: bold\">[</span> <span style=\"color: #008080; text-decoration-color: #008080; font-weight: bold\">18.48</span>   <span style=\"color: #008080; text-decoration-color: #008080; font-weight: bold\">33.08</span>   <span style=\"color: #008080; text-decoration-color: #008080; font-weight: bold\">66.44</span>  <span style=\"color: #008080; text-decoration-color: #008080; font-weight: bold\">117.56</span>  <span style=\"color: #008080; text-decoration-color: #008080; font-weight: bold\">165.402</span><span style=\"font-weight: bold\">]</span>\n",
       "</pre>\n"
      ],
      "text/plain": [
       "\u001b[1;36m1900\u001b[0m SST levels all years \u001b[1m[\u001b[0m \u001b[1;36m18.48\u001b[0m   \u001b[1;36m33.08\u001b[0m   \u001b[1;36m66.44\u001b[0m  \u001b[1;36m117.56\u001b[0m  \u001b[1;36m165.402\u001b[0m\u001b[1m]\u001b[0m\n"
      ]
     },
     "metadata": {},
     "output_type": "display_data"
    },
    {
     "data": {
      "text/html": [
       "<pre style=\"white-space:pre;overflow-x:auto;line-height:normal;font-family:Menlo,'DejaVu Sans Mono',consolas,'Courier New',monospace\"><span style=\"color: #008080; text-decoration-color: #008080; font-weight: bold\">1900</span> SST levels favorable large scale conditions <span style=\"font-weight: bold\">[</span> <span style=\"color: #008080; text-decoration-color: #008080; font-weight: bold\">57.278</span>   <span style=\"color: #008080; text-decoration-color: #008080; font-weight: bold\">82.0332</span> <span style=\"color: #008080; text-decoration-color: #008080; font-weight: bold\">126.16</span>   <span style=\"color: #008080; text-decoration-color: #008080; font-weight: bold\">177.88</span>   <span style=\"color: #008080; text-decoration-color: #008080; font-weight: bold\">222.654</span>\n",
       "<span style=\"font-weight: bold\">]</span>\n",
       "</pre>\n"
      ],
      "text/plain": [
       "\u001b[1;36m1900\u001b[0m SST levels favorable large scale conditions \u001b[1m[\u001b[0m \u001b[1;36m57.278\u001b[0m   \u001b[1;36m82.0332\u001b[0m \u001b[1;36m126.16\u001b[0m   \u001b[1;36m177.88\u001b[0m   \u001b[1;36m222.654\u001b[0m\n",
       "\u001b[1m]\u001b[0m\n"
      ]
     },
     "metadata": {},
     "output_type": "display_data"
    },
    {
     "data": {
      "text/html": [
       "<pre style=\"white-space:pre;overflow-x:auto;line-height:normal;font-family:Menlo,'DejaVu Sans Mono',consolas,'Courier New',monospace\"><span style=\"color: #008080; text-decoration-color: #008080; font-weight: bold\">126.1</span> <span style=\"color: #008080; text-decoration-color: #008080; font-weight: bold\">2018</span> SST levels all years <span style=\"color: #008080; text-decoration-color: #008080; font-weight: bold\">22.82972972972973</span>\n",
       "</pre>\n"
      ],
      "text/plain": [
       "\u001b[1;36m126.1\u001b[0m \u001b[1;36m2018\u001b[0m SST levels all years \u001b[1;36m22.82972972972973\u001b[0m\n"
      ]
     },
     "metadata": {},
     "output_type": "display_data"
    },
    {
     "data": {
      "text/html": [
       "<pre style=\"white-space:pre;overflow-x:auto;line-height:normal;font-family:Menlo,'DejaVu Sans Mono',consolas,'Courier New',monospace\"><span style=\"color: #008080; text-decoration-color: #008080; font-weight: bold\">126.1</span> <span style=\"color: #008080; text-decoration-color: #008080; font-weight: bold\">2018</span> SST levels favorable large scale conditions <span style=\"color: #008080; text-decoration-color: #008080; font-weight: bold\">66.71666666666667</span>\n",
       "</pre>\n"
      ],
      "text/plain": [
       "\u001b[1;36m126.1\u001b[0m \u001b[1;36m2018\u001b[0m SST levels favorable large scale conditions \u001b[1;36m66.71666666666667\u001b[0m\n"
      ]
     },
     "metadata": {},
     "output_type": "display_data"
    },
    {
     "data": {
      "text/html": [
       "<pre style=\"white-space:pre;overflow-x:auto;line-height:normal;font-family:Menlo,'DejaVu Sans Mono',consolas,'Courier New',monospace\"><span style=\"color: #008080; text-decoration-color: #008080; font-weight: bold\">126.1</span> <span style=\"color: #008080; text-decoration-color: #008080; font-weight: bold\">1982</span> SST levels all years <span style=\"color: #008080; text-decoration-color: #008080; font-weight: bold\">20.235135135135135</span>\n",
       "</pre>\n"
      ],
      "text/plain": [
       "\u001b[1;36m126.1\u001b[0m \u001b[1;36m1982\u001b[0m SST levels all years \u001b[1;36m20.235135135135135\u001b[0m\n"
      ]
     },
     "metadata": {},
     "output_type": "display_data"
    },
    {
     "data": {
      "text/html": [
       "<pre style=\"white-space:pre;overflow-x:auto;line-height:normal;font-family:Menlo,'DejaVu Sans Mono',consolas,'Courier New',monospace\"><span style=\"color: #008080; text-decoration-color: #008080; font-weight: bold\">126.1</span> <span style=\"color: #008080; text-decoration-color: #008080; font-weight: bold\">1982</span> SST levels favorable large scale conditions <span style=\"color: #008080; text-decoration-color: #008080; font-weight: bold\">60.916666666666664</span>\n",
       "</pre>\n"
      ],
      "text/plain": [
       "\u001b[1;36m126.1\u001b[0m \u001b[1;36m1982\u001b[0m SST levels favorable large scale conditions \u001b[1;36m60.916666666666664\u001b[0m\n"
      ]
     },
     "metadata": {},
     "output_type": "display_data"
    },
    {
     "data": {
      "text/html": [
       "<pre style=\"white-space:pre;overflow-x:auto;line-height:normal;font-family:Menlo,'DejaVu Sans Mono',consolas,'Courier New',monospace\"><span style=\"color: #008080; text-decoration-color: #008080; font-weight: bold\">126.1</span> <span style=\"color: #008080; text-decoration-color: #008080; font-weight: bold\">1900</span> SST levels all years <span style=\"color: #008080; text-decoration-color: #008080; font-weight: bold\">14.037837837837838</span>\n",
       "</pre>\n"
      ],
      "text/plain": [
       "\u001b[1;36m126.1\u001b[0m \u001b[1;36m1900\u001b[0m SST levels all years \u001b[1;36m14.037837837837838\u001b[0m\n"
      ]
     },
     "metadata": {},
     "output_type": "display_data"
    },
    {
     "data": {
      "text/html": [
       "<pre style=\"white-space:pre;overflow-x:auto;line-height:normal;font-family:Menlo,'DejaVu Sans Mono',consolas,'Courier New',monospace\"><span style=\"color: #008080; text-decoration-color: #008080; font-weight: bold\">126.1</span> <span style=\"color: #008080; text-decoration-color: #008080; font-weight: bold\">1900</span> SST levels favorable large scale conditions <span style=\"color: #008080; text-decoration-color: #008080; font-weight: bold\">50.083333333333336</span>\n",
       "</pre>\n"
      ],
      "text/plain": [
       "\u001b[1;36m126.1\u001b[0m \u001b[1;36m1900\u001b[0m SST levels favorable large scale conditions \u001b[1;36m50.083333333333336\u001b[0m\n"
      ]
     },
     "metadata": {},
     "output_type": "display_data"
    },
    {
     "data": {
      "text/html": [
       "<pre style=\"white-space:pre;overflow-x:auto;line-height:normal;font-family:Menlo,'DejaVu Sans Mono',consolas,'Courier New',monospace\"><span style=\"color: #008080; text-decoration-color: #008080; font-weight: bold\">159.6</span> <span style=\"color: #008080; text-decoration-color: #008080; font-weight: bold\">2018</span> SST levels all years <span style=\"color: #008080; text-decoration-color: #008080; font-weight: bold\">11.613513513513514</span>\n",
       "</pre>\n"
      ],
      "text/plain": [
       "\u001b[1;36m159.6\u001b[0m \u001b[1;36m2018\u001b[0m SST levels all years \u001b[1;36m11.613513513513514\u001b[0m\n"
      ]
     },
     "metadata": {},
     "output_type": "display_data"
    },
    {
     "data": {
      "text/html": [
       "<pre style=\"white-space:pre;overflow-x:auto;line-height:normal;font-family:Menlo,'DejaVu Sans Mono',consolas,'Courier New',monospace\"><span style=\"color: #008080; text-decoration-color: #008080; font-weight: bold\">159.6</span> <span style=\"color: #008080; text-decoration-color: #008080; font-weight: bold\">2018</span> SST levels favorable large scale conditions <span style=\"color: #008080; text-decoration-color: #008080; font-weight: bold\">43.93333333333334</span>\n",
       "</pre>\n"
      ],
      "text/plain": [
       "\u001b[1;36m159.6\u001b[0m \u001b[1;36m2018\u001b[0m SST levels favorable large scale conditions \u001b[1;36m43.93333333333334\u001b[0m\n"
      ]
     },
     "metadata": {},
     "output_type": "display_data"
    },
    {
     "data": {
      "text/html": [
       "<pre style=\"white-space:pre;overflow-x:auto;line-height:normal;font-family:Menlo,'DejaVu Sans Mono',consolas,'Courier New',monospace\"><span style=\"color: #008080; text-decoration-color: #008080; font-weight: bold\">159.6</span> <span style=\"color: #008080; text-decoration-color: #008080; font-weight: bold\">1982</span> SST levels all years <span style=\"color: #008080; text-decoration-color: #008080; font-weight: bold\">9.954054054054055</span>\n",
       "</pre>\n"
      ],
      "text/plain": [
       "\u001b[1;36m159.6\u001b[0m \u001b[1;36m1982\u001b[0m SST levels all years \u001b[1;36m9.954054054054055\u001b[0m\n"
      ]
     },
     "metadata": {},
     "output_type": "display_data"
    },
    {
     "data": {
      "text/html": [
       "<pre style=\"white-space:pre;overflow-x:auto;line-height:normal;font-family:Menlo,'DejaVu Sans Mono',consolas,'Courier New',monospace\"><span style=\"color: #008080; text-decoration-color: #008080; font-weight: bold\">159.6</span> <span style=\"color: #008080; text-decoration-color: #008080; font-weight: bold\">1982</span> SST levels favorable large scale conditions <span style=\"color: #008080; text-decoration-color: #008080; font-weight: bold\">37.983333333333334</span>\n",
       "</pre>\n"
      ],
      "text/plain": [
       "\u001b[1;36m159.6\u001b[0m \u001b[1;36m1982\u001b[0m SST levels favorable large scale conditions \u001b[1;36m37.983333333333334\u001b[0m\n"
      ]
     },
     "metadata": {},
     "output_type": "display_data"
    },
    {
     "data": {
      "text/html": [
       "<pre style=\"white-space:pre;overflow-x:auto;line-height:normal;font-family:Menlo,'DejaVu Sans Mono',consolas,'Courier New',monospace\"><span style=\"color: #008080; text-decoration-color: #008080; font-weight: bold\">159.6</span> <span style=\"color: #008080; text-decoration-color: #008080; font-weight: bold\">1900</span> SST levels all years <span style=\"color: #008080; text-decoration-color: #008080; font-weight: bold\">5.9459459459459465</span>\n",
       "</pre>\n"
      ],
      "text/plain": [
       "\u001b[1;36m159.6\u001b[0m \u001b[1;36m1900\u001b[0m SST levels all years \u001b[1;36m5.9459459459459465\u001b[0m\n"
      ]
     },
     "metadata": {},
     "output_type": "display_data"
    },
    {
     "data": {
      "text/html": [
       "<pre style=\"white-space:pre;overflow-x:auto;line-height:normal;font-family:Menlo,'DejaVu Sans Mono',consolas,'Courier New',monospace\"><span style=\"color: #008080; text-decoration-color: #008080; font-weight: bold\">159.6</span> <span style=\"color: #008080; text-decoration-color: #008080; font-weight: bold\">1900</span> SST levels favorable large scale conditions <span style=\"color: #008080; text-decoration-color: #008080; font-weight: bold\">26.416666666666664</span>\n",
       "</pre>\n"
      ],
      "text/plain": [
       "\u001b[1;36m159.6\u001b[0m \u001b[1;36m1900\u001b[0m SST levels favorable large scale conditions \u001b[1;36m26.416666666666664\u001b[0m\n"
      ]
     },
     "metadata": {},
     "output_type": "display_data"
    }
   ],
   "source": [
    "    os.system('mkdir '+emu._dir+'/'+emu._tag+'/counter_2009-2018/')\n",
    "\n",
    "\n",
    "    year_groups = {\n",
    "        0 : {'years':all_years, 'color':'blue', 'label':'all years', 'lsty':'-', 'eva':0.5, 'short':'all years'},\n",
    "        1 : {'years':[yr for yr in years if float(counterFacts['2018 SST levels']['ACE'].loc[yr].mean('run').values) >= 126.1], \\\n",
    "                    'color':'red', 'label':'favorable large scale conditions', 'lsty':'--', 'eva':0.3, 'short':'favorable'},\n",
    "        # 2 : {'years':[yr for yr in all_years if float(counterFacts['all_2009-2018SST'][indicator].loc[yr].mean('run').values) < 126.1], \\\n",
    "                      # 'color':'darkgreen', 'label':'unfavorable large scale conditions', 'lsty':':', 'eva':-0.2, 'short':'un-favorable'},\n",
    "        # '2017' : {'years':[2017], 'color':'m', 'label':'2017', 'lsty':'-.', 'eva':0.4},\n",
    "    }\n",
    "    ##############################\n",
    "    # seasonal ACE probabilities #\n",
    "    ##############################\n",
    "    plt.close('all')\n",
    "    plt.rc('grid', linestyle=\"--\", color='lightgray')\n",
    "    fig,axes = plt.subplots(nrows=4, ncols=2, figsize=(8,6), dpi=100, facecolor='w', sharex='col', sharey='row', gridspec_kw={'height_ratios':[5,5,2,2], 'width_ratios':[5,1]}, constrained_layout=True)\n",
    "    for ax in axes.flatten()[1:]:\n",
    "        ax.grid(zorder=0)\n",
    "    indicator = 'ACE'\n",
    "    axSST = axes[0,0]\n",
    "    axSST.fill_between([1982,2018],[27.16]*2,[28.62]*2, color='gray', alpha=0.3)\n",
    "    axM = axes[1,0]\n",
    "    # tmpCur = counterFacts['all_2009-2018SST'][indicator]\n",
    "    for scen,DT in counterFacts.items():\n",
    "        axSST.plot(DT['sst'].year, DT['sst'], color=DT['color'])\n",
    "        print('%s SST average %s' %(scen, DT['sst'].mean()))\n",
    "\n",
    "    axL = axes[0,1]\n",
    "    axL.axis('off')\n",
    "    for scen in ['%s SST levels' %(yr) for yr in [2018,0,1982,1900]]:\n",
    "        DT = counterFacts[scen]\n",
    "        axL.plot([],[], color=DT['color'], label=DT['label'])\n",
    "    axL.legend(fontsize=8)\n",
    "\n",
    "    for scen in ['%s SST levels' %(yr) for yr in [2018,1982,1900]]:\n",
    "        DT = counterFacts[scen]\n",
    "        tmp = DT[indicator]\n",
    "        # for q,lsty in zip([50,95],['--','-','-','-.']):\n",
    "            # axM.plot(tmp.year, np.nanpercentile(tmp, q, axis=1), color=DT['color'], linestyle=lsty)\n",
    "\n",
    "        for iyr,yr in enumerate(tmp.year.values):\n",
    "            if DT['sst'][iyr] < 27.16 or DT['sst'][iyr] > 28.62:\n",
    "                alpha=0.2\n",
    "            else:\n",
    "                alpha=1\n",
    "            pctls = np.nanpercentile(tmp.loc[yr], [5,17,50,83,95])\n",
    "            x=DT['s'] + yr\n",
    "            axM.fill_between([x-0.1,x+0.1],[pctls[1]]*2, [pctls[3]]*2, color=DT['color'], alpha=alpha, zorder=3)\n",
    "            axM.plot([x,x], pctls[[0,-1]], color=DT['color'], alpha=alpha, zorder=3)\n",
    "            axM.plot([x-0.1,x+0.1],[pctls[2]]*2, color='w', zorder=4)\n",
    "\n",
    "\n",
    "        for x,yrDT in year_groups.items():\n",
    "            x += DT['s']\n",
    "            pctls = np.nanpercentile(tmp.loc[np.isin(tmp.year,yrDT['years'])], [5,17,50,83,95])\n",
    "            print(scen,yrDT['label'],pctls)\n",
    "            axes[1,1].fill_between([x-0.1,x+0.1],[pctls[1]]*2, [pctls[3]]*2, color=DT['color'], alpha=alpha, zorder=3)\n",
    "            axes[1,1].plot([x,x], pctls[[0,-1]], color=DT['color'], alpha=alpha, zorder=3)\n",
    "\n",
    "        # for yr in tmp.year.values:\n",
    "        #     axM.scatter([yr]*1000, tmp.loc[yr], color=DT['color'], alpha=0.1, s=7)\n",
    "    axes[-1,1].set_xticks(list(year_groups.keys()))\n",
    "    axes[-1,1].set_xticklabels([d['short'] for d in year_groups.values()], rotation=90)\n",
    "    # axes[0,0].set_xlim(0.9,1.1)\n",
    "\n",
    "    aces = [[126.1, 2, 'orange','above normal seasons (ACE > 126.1)'], [159.6, 3, 'red','extremely active seasons (ACE > 159.6)']]\n",
    "    for ace,r,color,name in aces:\n",
    "        axes[r,1].set_ylim(0,100)\n",
    "        axes[r,1].set_yticks(np.arange(0,110,25))\n",
    "        axes[r,0].set_title(name, color=color)\n",
    "        axes[r,0].set_ylabel('[$\\%$]', color=color)\n",
    "        for ax in axes[r,:]:\n",
    "            ax.tick_params(axis='y', colors=color)\n",
    "            for child in ax.get_children():\n",
    "                if isinstance(child, matplotlib.spines.Spine):\n",
    "                    child.set_color(color)\n",
    "        for ax in axes[1,:]:\n",
    "            ax.axhline(ace, color=color, zorder=2)\n",
    "        for scen in ['%s SST levels' %(yr) for yr in [2018,1982,1900]]:\n",
    "            DT = counterFacts[scen]\n",
    "            tmp = DT[indicator]\n",
    "            for yr in tmp.year.values:\n",
    "                y = np.sum(tmp.loc[yr]>ace).values / tmp.loc[yr].values.flatten().shape[0] * 100\n",
    "                axes[r,0].bar(x=yr,height = y, color=DT['color'], zorder=2)\n",
    "\n",
    "            for x,yrDT in year_groups.items():\n",
    "                tmp_ = tmp[np.isin(tmp.year,yrDT['years']),:]\n",
    "                y = np.sum(tmp_>ace).values / tmp_.values.flatten().shape[0] * 100\n",
    "                print(ace,scen,yrDT['label'],y)\n",
    "                axes[r,1].bar(x=x,height = y, color=DT['color'], zorder=2)\n",
    "\n",
    "    axes[1,0].set_ylim(0,300)\n",
    "    axes[1,0].set_yticks([0,50,90,126.1,159.6,200,250,300])\n",
    "    axes[1,0].get_yticklabels()[3].set_color('orange')\n",
    "    axes[1,0].get_yticklabels()[4].set_color('red')\n",
    "    axes[1,0].set_ylabel('ACE [m2/s2]')\n",
    "    axes[-1,0].set_xticks(np.arange(1982,2020,2))\n",
    "    axes[-1,0].set_xticklabels(np.arange(1982,2020,2), rotation=90)\n",
    "\n",
    "    for ax,letter in zip(axes.flatten()[[0]+list(range(2,8))],list(string.ascii_lowercase)):\n",
    "        ax.annotate(letter.upper(), xy=(0,0.95), xycoords='axes fraction', fontweight='bold', fontsize=16, backgroundcolor='w')\n",
    "\n",
    "    plt.tight_layout()\n",
    "    plt.savefig(emu._dir+'/'+emu._tag+'/counter_2009-2018/'+indicator+'_yearly_probs.png', bbox_inches='tight', dpi=200); plt.close()\n"
   ]
  },
  {
   "cell_type": "code",
   "execution_count": 93,
   "metadata": {
    "collapsed": false
   },
   "outputs": [
    {
     "data": {
      "text/html": [
       "<pre style=\"white-space:pre;overflow-x:auto;line-height:normal;font-family:Menlo,'DejaVu Sans Mono',consolas,'Courier New',monospace\"><span style=\"color: #008080; text-decoration-color: #008080; font-weight: bold\">2018</span> SST levels <span style=\"color: #008080; text-decoration-color: #008080; font-weight: bold\">91.46363567567568</span>\n",
       "</pre>\n"
      ],
      "text/plain": [
       "\u001b[1;36m2018\u001b[0m SST levels \u001b[1;36m91.46363567567568\u001b[0m\n"
      ]
     },
     "metadata": {},
     "output_type": "display_data"
    },
    {
     "data": {
      "text/html": [
       "<pre style=\"white-space:pre;overflow-x:auto;line-height:normal;font-family:Menlo,'DejaVu Sans Mono',consolas,'Courier New',monospace\"><span style=\"color: #008080; text-decoration-color: #008080; font-weight: bold\">1982</span> SST levels <span style=\"color: #008080; text-decoration-color: #008080; font-weight: bold\">86.5032627027027</span>\n",
       "</pre>\n"
      ],
      "text/plain": [
       "\u001b[1;36m1982\u001b[0m SST levels \u001b[1;36m86.5032627027027\u001b[0m\n"
      ]
     },
     "metadata": {},
     "output_type": "display_data"
    },
    {
     "data": {
      "text/html": [
       "<pre style=\"white-space:pre;overflow-x:auto;line-height:normal;font-family:Menlo,'DejaVu Sans Mono',consolas,'Courier New',monospace\"><span style=\"color: #008080; text-decoration-color: #008080; font-weight: bold\">1900</span> SST levels <span style=\"color: #008080; text-decoration-color: #008080; font-weight: bold\">75.75406594594595</span>\n",
       "</pre>\n"
      ],
      "text/plain": [
       "\u001b[1;36m1900\u001b[0m SST levels \u001b[1;36m75.75406594594595\u001b[0m\n"
      ]
     },
     "metadata": {},
     "output_type": "display_data"
    },
    {
     "data": {
      "text/html": [
       "<pre style=\"white-space:pre;overflow-x:auto;line-height:normal;font-family:Menlo,'DejaVu Sans Mono',consolas,'Courier New',monospace\"><span style=\"color: #008080; text-decoration-color: #008080; font-weight: bold\">2018</span> SST levels <span style=\"color: #008080; text-decoration-color: #008080; font-weight: bold\">158.05412666666666</span>\n",
       "</pre>\n"
      ],
      "text/plain": [
       "\u001b[1;36m2018\u001b[0m SST levels \u001b[1;36m158.05412666666666\u001b[0m\n"
      ]
     },
     "metadata": {},
     "output_type": "display_data"
    },
    {
     "data": {
      "text/html": [
       "<pre style=\"white-space:pre;overflow-x:auto;line-height:normal;font-family:Menlo,'DejaVu Sans Mono',consolas,'Courier New',monospace\"><span style=\"color: #008080; text-decoration-color: #008080; font-weight: bold\">1982</span> SST levels <span style=\"color: #008080; text-decoration-color: #008080; font-weight: bold\">147.72893333333332</span>\n",
       "</pre>\n"
      ],
      "text/plain": [
       "\u001b[1;36m1982\u001b[0m SST levels \u001b[1;36m147.72893333333332\u001b[0m\n"
      ]
     },
     "metadata": {},
     "output_type": "display_data"
    },
    {
     "data": {
      "text/html": [
       "<pre style=\"white-space:pre;overflow-x:auto;line-height:normal;font-family:Menlo,'DejaVu Sans Mono',consolas,'Courier New',monospace\"><span style=\"color: #008080; text-decoration-color: #008080; font-weight: bold\">1900</span> SST levels <span style=\"color: #008080; text-decoration-color: #008080; font-weight: bold\">130.78388</span>\n",
       "</pre>\n"
      ],
      "text/plain": [
       "\u001b[1;36m1900\u001b[0m SST levels \u001b[1;36m130.78388\u001b[0m\n"
      ]
     },
     "metadata": {},
     "output_type": "display_data"
    }
   ],
   "source": [
    "# average ACE diff\n",
    "for x,yrDT in year_groups.items():\n",
    "    for scen in ['%s SST levels' %(yr) for yr in [2018,1982,1900]]:\n",
    "        tmp = counterFacts[scen]['ACE']\n",
    "        tmp = tmp[np.isin(tmp.year,yrDT['years'])]\n",
    "        print('%s %s' %(scen, tmp.mean().values))"
   ]
  },
  {
   "cell_type": "code",
   "execution_count": 11,
   "metadata": {
    "collapsed": false
   },
   "outputs": [
    {
     "data": {
      "text/html": [
       "<pre style=\"white-space:pre;overflow-x:auto;line-height:normal;font-family:Menlo,'DejaVu Sans Mono',consolas,'Courier New',monospace\"><span style=\"color: #008080; text-decoration-color: #008080; font-weight: bold\">0.11613513513513514</span> <span style=\"color: #008080; text-decoration-color: #008080; font-weight: bold\">0.11613513513513514</span>\n",
       "</pre>\n"
      ],
      "text/plain": [
       "\u001b[1;36m0.11613513513513514\u001b[0m \u001b[1;36m0.11613513513513514\u001b[0m\n"
      ]
     },
     "metadata": {},
     "output_type": "display_data"
    },
    {
     "data": {
      "text/html": [
       "<pre style=\"white-space:pre;overflow-x:auto;line-height:normal;font-family:Menlo,'DejaVu Sans Mono',consolas,'Courier New',monospace\">percentage of above <span style=\"color: #008080; text-decoration-color: #008080; font-weight: bold\">159.6</span> ACE seasons that would not have happened in <span style=\"color: #008080; text-decoration-color: #008080; font-weight: bold\">2018</span> SST levels <span style=\"color: #008080; text-decoration-color: #008080; font-weight: bold\">0.0</span> \n",
       "</pre>\n"
      ],
      "text/plain": [
       "percentage of above \u001b[1;36m159.6\u001b[0m ACE seasons that would not have happened in \u001b[1;36m2018\u001b[0m SST levels \u001b[1;36m0.0\u001b[0m \n"
      ]
     },
     "metadata": {},
     "output_type": "display_data"
    },
    {
     "data": {
      "text/html": [
       "<pre style=\"white-space:pre;overflow-x:auto;line-height:normal;font-family:Menlo,'DejaVu Sans Mono',consolas,'Courier New',monospace\"><span style=\"color: #008080; text-decoration-color: #008080; font-weight: bold\">0.11613513513513514</span> <span style=\"color: #008080; text-decoration-color: #008080; font-weight: bold\">0.09954054054054054</span>\n",
       "</pre>\n"
      ],
      "text/plain": [
       "\u001b[1;36m0.11613513513513514\u001b[0m \u001b[1;36m0.09954054054054054\u001b[0m\n"
      ]
     },
     "metadata": {},
     "output_type": "display_data"
    },
    {
     "data": {
      "text/html": [
       "<pre style=\"white-space:pre;overflow-x:auto;line-height:normal;font-family:Menlo,'DejaVu Sans Mono',consolas,'Courier New',monospace\">percentage of above <span style=\"color: #008080; text-decoration-color: #008080; font-weight: bold\">159.6</span> ACE seasons that would not have happened in <span style=\"color: #008080; text-decoration-color: #008080; font-weight: bold\">1982</span> SST levels \n",
       "<span style=\"color: #008080; text-decoration-color: #008080; font-weight: bold\">14.289038864323956</span> \n",
       "</pre>\n"
      ],
      "text/plain": [
       "percentage of above \u001b[1;36m159.6\u001b[0m ACE seasons that would not have happened in \u001b[1;36m1982\u001b[0m SST levels \n",
       "\u001b[1;36m14.289038864323956\u001b[0m \n"
      ]
     },
     "metadata": {},
     "output_type": "display_data"
    },
    {
     "data": {
      "text/html": [
       "<pre style=\"white-space:pre;overflow-x:auto;line-height:normal;font-family:Menlo,'DejaVu Sans Mono',consolas,'Courier New',monospace\"><span style=\"color: #008080; text-decoration-color: #008080; font-weight: bold\">0.11613513513513514</span> <span style=\"color: #008080; text-decoration-color: #008080; font-weight: bold\">0.05945945945945946</span>\n",
       "</pre>\n"
      ],
      "text/plain": [
       "\u001b[1;36m0.11613513513513514\u001b[0m \u001b[1;36m0.05945945945945946\u001b[0m\n"
      ]
     },
     "metadata": {},
     "output_type": "display_data"
    },
    {
     "data": {
      "text/html": [
       "<pre style=\"white-space:pre;overflow-x:auto;line-height:normal;font-family:Menlo,'DejaVu Sans Mono',consolas,'Courier New',monospace\">percentage of above <span style=\"color: #008080; text-decoration-color: #008080; font-weight: bold\">159.6</span> ACE seasons that would not have happened in <span style=\"color: #008080; text-decoration-color: #008080; font-weight: bold\">1900</span> SST levels \n",
       "<span style=\"color: #008080; text-decoration-color: #008080; font-weight: bold\">48.801489411217126</span> \n",
       "</pre>\n"
      ],
      "text/plain": [
       "percentage of above \u001b[1;36m159.6\u001b[0m ACE seasons that would not have happened in \u001b[1;36m1900\u001b[0m SST levels \n",
       "\u001b[1;36m48.801489411217126\u001b[0m \n"
      ]
     },
     "metadata": {},
     "output_type": "display_data"
    }
   ],
   "source": [
    "# percentage of above 126.1 ACE seasons that would not have occurred in other sceanrio\n",
    "ACE = 159.6\n",
    "for scen in ['%s SST levels' %(yr) for yr in [2018,1982,1900]]:\n",
    "    pact = np.sum(counterFacts['%s SST levels' %(2018)]['ACE'] > ACE) / counterFacts['%s SST levels' %(2018)]['ACE'].values.flatten().shape[0]\n",
    "    ppreind = np.sum(counterFacts[scen]['ACE'] > ACE) / counterFacts[scen]['ACE'].values.flatten().shape[0]\n",
    "    print(pact.values,ppreind.values)\n",
    "    print('percentage of above %s ACE seasons that would not have happened in %s %s ' %(ACE, scen, (1 - ppreind.values / pact.values) * 100))"
   ]
  },
  {
   "cell_type": "code",
   "execution_count": 114,
   "metadata": {
    "collapsed": false
   },
   "outputs": [
    {
     "data": {
      "text/html": [
       "<pre style=\"white-space:pre;overflow-x:auto;line-height:normal;font-family:Menlo,'DejaVu Sans Mono',consolas,'Courier New',monospace\">percentage of above <span style=\"color: #008080; text-decoration-color: #008080; font-weight: bold\">126.1</span> ACE seasons in <span style=\"color: #008080; text-decoration-color: #008080; font-weight: bold\">2018</span> SST levels <span style=\"color: #008080; text-decoration-color: #008080; font-weight: bold\">0.442</span> \n",
       "</pre>\n"
      ],
      "text/plain": [
       "percentage of above \u001b[1;36m126.1\u001b[0m ACE seasons in \u001b[1;36m2018\u001b[0m SST levels \u001b[1;36m0.442\u001b[0m \n"
      ]
     },
     "metadata": {},
     "output_type": "display_data"
    },
    {
     "data": {
      "text/html": [
       "<pre style=\"white-space:pre;overflow-x:auto;line-height:normal;font-family:Menlo,'DejaVu Sans Mono',consolas,'Courier New',monospace\">percentage of above <span style=\"color: #008080; text-decoration-color: #008080; font-weight: bold\">126.1</span> ACE seasons in <span style=\"color: #008080; text-decoration-color: #008080; font-weight: bold\">1982</span> SST levels <span style=\"color: #008080; text-decoration-color: #008080; font-weight: bold\">0.399</span> \n",
       "</pre>\n"
      ],
      "text/plain": [
       "percentage of above \u001b[1;36m126.1\u001b[0m ACE seasons in \u001b[1;36m1982\u001b[0m SST levels \u001b[1;36m0.399\u001b[0m \n"
      ]
     },
     "metadata": {},
     "output_type": "display_data"
    },
    {
     "data": {
      "text/html": [
       "<pre style=\"white-space:pre;overflow-x:auto;line-height:normal;font-family:Menlo,'DejaVu Sans Mono',consolas,'Courier New',monospace\">percentage of above <span style=\"color: #008080; text-decoration-color: #008080; font-weight: bold\">126.1</span> ACE seasons in <span style=\"color: #008080; text-decoration-color: #008080; font-weight: bold\">1900</span> SST levels <span style=\"color: #008080; text-decoration-color: #008080; font-weight: bold\">0.332</span> \n",
       "</pre>\n"
      ],
      "text/plain": [
       "percentage of above \u001b[1;36m126.1\u001b[0m ACE seasons in \u001b[1;36m1900\u001b[0m SST levels \u001b[1;36m0.332\u001b[0m \n"
      ]
     },
     "metadata": {},
     "output_type": "display_data"
    },
    {
     "data": {
      "text/html": [
       "<pre style=\"white-space:pre;overflow-x:auto;line-height:normal;font-family:Menlo,'DejaVu Sans Mono',consolas,'Courier New',monospace\">percentage of above <span style=\"color: #008080; text-decoration-color: #008080; font-weight: bold\">159.6</span> ACE seasons in <span style=\"color: #008080; text-decoration-color: #008080; font-weight: bold\">2018</span> SST levels <span style=\"color: #008080; text-decoration-color: #008080; font-weight: bold\">0.232</span> \n",
       "</pre>\n"
      ],
      "text/plain": [
       "percentage of above \u001b[1;36m159.6\u001b[0m ACE seasons in \u001b[1;36m2018\u001b[0m SST levels \u001b[1;36m0.232\u001b[0m \n"
      ]
     },
     "metadata": {},
     "output_type": "display_data"
    },
    {
     "data": {
      "text/html": [
       "<pre style=\"white-space:pre;overflow-x:auto;line-height:normal;font-family:Menlo,'DejaVu Sans Mono',consolas,'Courier New',monospace\">percentage of above <span style=\"color: #008080; text-decoration-color: #008080; font-weight: bold\">159.6</span> ACE seasons in <span style=\"color: #008080; text-decoration-color: #008080; font-weight: bold\">1982</span> SST levels <span style=\"color: #008080; text-decoration-color: #008080; font-weight: bold\">0.187</span> \n",
       "</pre>\n"
      ],
      "text/plain": [
       "percentage of above \u001b[1;36m159.6\u001b[0m ACE seasons in \u001b[1;36m1982\u001b[0m SST levels \u001b[1;36m0.187\u001b[0m \n"
      ]
     },
     "metadata": {},
     "output_type": "display_data"
    },
    {
     "data": {
      "text/html": [
       "<pre style=\"white-space:pre;overflow-x:auto;line-height:normal;font-family:Menlo,'DejaVu Sans Mono',consolas,'Courier New',monospace\">percentage of above <span style=\"color: #008080; text-decoration-color: #008080; font-weight: bold\">159.6</span> ACE seasons in <span style=\"color: #008080; text-decoration-color: #008080; font-weight: bold\">1900</span> SST levels <span style=\"color: #008080; text-decoration-color: #008080; font-weight: bold\">0.129</span> \n",
       "</pre>\n"
      ],
      "text/plain": [
       "percentage of above \u001b[1;36m159.6\u001b[0m ACE seasons in \u001b[1;36m1900\u001b[0m SST levels \u001b[1;36m0.129\u001b[0m \n"
      ]
     },
     "metadata": {},
     "output_type": "display_data"
    },
    {
     "data": {
      "text/html": [
       "<pre style=\"white-space:pre;overflow-x:auto;line-height:normal;font-family:Menlo,'DejaVu Sans Mono',consolas,'Courier New',monospace\">percentage of above <span style=\"color: #008080; text-decoration-color: #008080; font-weight: bold\">225</span> ACE seasons in <span style=\"color: #008080; text-decoration-color: #008080; font-weight: bold\">2018</span> SST levels <span style=\"color: #008080; text-decoration-color: #008080; font-weight: bold\">0.042</span> \n",
       "</pre>\n"
      ],
      "text/plain": [
       "percentage of above \u001b[1;36m225\u001b[0m ACE seasons in \u001b[1;36m2018\u001b[0m SST levels \u001b[1;36m0.042\u001b[0m \n"
      ]
     },
     "metadata": {},
     "output_type": "display_data"
    },
    {
     "data": {
      "text/html": [
       "<pre style=\"white-space:pre;overflow-x:auto;line-height:normal;font-family:Menlo,'DejaVu Sans Mono',consolas,'Courier New',monospace\">percentage of above <span style=\"color: #008080; text-decoration-color: #008080; font-weight: bold\">225</span> ACE seasons in <span style=\"color: #008080; text-decoration-color: #008080; font-weight: bold\">1982</span> SST levels <span style=\"color: #008080; text-decoration-color: #008080; font-weight: bold\">0.035</span> \n",
       "</pre>\n"
      ],
      "text/plain": [
       "percentage of above \u001b[1;36m225\u001b[0m ACE seasons in \u001b[1;36m1982\u001b[0m SST levels \u001b[1;36m0.035\u001b[0m \n"
      ]
     },
     "metadata": {},
     "output_type": "display_data"
    },
    {
     "data": {
      "text/html": [
       "<pre style=\"white-space:pre;overflow-x:auto;line-height:normal;font-family:Menlo,'DejaVu Sans Mono',consolas,'Courier New',monospace\">percentage of above <span style=\"color: #008080; text-decoration-color: #008080; font-weight: bold\">225</span> ACE seasons in <span style=\"color: #008080; text-decoration-color: #008080; font-weight: bold\">1900</span> SST levels <span style=\"color: #008080; text-decoration-color: #008080; font-weight: bold\">0.015</span> \n",
       "</pre>\n"
      ],
      "text/plain": [
       "percentage of above \u001b[1;36m225\u001b[0m ACE seasons in \u001b[1;36m1900\u001b[0m SST levels \u001b[1;36m0.015\u001b[0m \n"
      ]
     },
     "metadata": {},
     "output_type": "display_data"
    }
   ],
   "source": [
    "# chance of 2017 becoming above average in different scenarios\n",
    "for ACE in [126.1,159.6,225]:\n",
    "    for scen in ['%s SST levels' %(yr) for yr in [2018,1982,1900]]:\n",
    "        ppreind = np.sum(counterFacts[scen]['ACE'].loc[2017] > ACE) / counterFacts[scen]['ACE'].loc[2017].values.flatten().shape[0]\n",
    "        print('percentage of above %s ACE seasons in %s %s ' %(ACE, scen, ppreind.values))"
   ]
  },
  {
   "cell_type": "code",
   "execution_count": 55,
   "metadata": {
    "collapsed": false
   },
   "outputs": [
    {
     "data": {
      "text/html": [
       "<pre style=\"white-space:pre;overflow-x:auto;line-height:normal;font-family:Menlo,'DejaVu Sans Mono',consolas,'Courier New',monospace\"><span style=\"color: #008080; text-decoration-color: #008080; font-weight: bold\">0</span> SST levels <span style=\"color: #00ff00; text-decoration-color: #00ff00; font-weight: bold\">1982:1994</span> <span style=\"color: #008080; text-decoration-color: #008080; font-weight: bold\">60.69485538461537</span>\n",
       "</pre>\n"
      ],
      "text/plain": [
       "\u001b[1;36m0\u001b[0m SST levels \u001b[1;92m1982:1994\u001b[0m \u001b[1;36m60.69485538461537\u001b[0m\n"
      ]
     },
     "metadata": {},
     "output_type": "display_data"
    },
    {
     "data": {
      "text/html": [
       "<pre style=\"white-space:pre;overflow-x:auto;line-height:normal;font-family:Menlo,'DejaVu Sans Mono',consolas,'Courier New',monospace\"><span style=\"color: #008080; text-decoration-color: #008080; font-weight: bold\">0</span> SST levels <span style=\"color: #008080; text-decoration-color: #008080; font-weight: bold\">89.09455243243244</span>\n",
       "</pre>\n"
      ],
      "text/plain": [
       "\u001b[1;36m0\u001b[0m SST levels \u001b[1;36m89.09455243243244\u001b[0m\n"
      ]
     },
     "metadata": {},
     "output_type": "display_data"
    },
    {
     "data": {
      "text/html": [
       "<pre style=\"white-space:pre;overflow-x:auto;line-height:normal;font-family:Menlo,'DejaVu Sans Mono',consolas,'Courier New',monospace\"><span style=\"color: #008080; text-decoration-color: #008080; font-weight: bold\">2018</span> SST levels <span style=\"color: #00ff00; text-decoration-color: #00ff00; font-weight: bold\">1982:1994</span> <span style=\"color: #008080; text-decoration-color: #008080; font-weight: bold\">63.62867692307692</span>\n",
       "</pre>\n"
      ],
      "text/plain": [
       "\u001b[1;36m2018\u001b[0m SST levels \u001b[1;92m1982:1994\u001b[0m \u001b[1;36m63.62867692307692\u001b[0m\n"
      ]
     },
     "metadata": {},
     "output_type": "display_data"
    },
    {
     "data": {
      "text/html": [
       "<pre style=\"white-space:pre;overflow-x:auto;line-height:normal;font-family:Menlo,'DejaVu Sans Mono',consolas,'Courier New',monospace\"><span style=\"color: #008080; text-decoration-color: #008080; font-weight: bold\">2018</span> SST levels <span style=\"color: #008080; text-decoration-color: #008080; font-weight: bold\">91.46363567567568</span>\n",
       "</pre>\n"
      ],
      "text/plain": [
       "\u001b[1;36m2018\u001b[0m SST levels \u001b[1;36m91.46363567567568\u001b[0m\n"
      ]
     },
     "metadata": {},
     "output_type": "display_data"
    },
    {
     "data": {
      "text/html": [
       "<pre style=\"white-space:pre;overflow-x:auto;line-height:normal;font-family:Menlo,'DejaVu Sans Mono',consolas,'Courier New',monospace\"><span style=\"color: #008080; text-decoration-color: #008080; font-weight: bold\">1982</span> SST levels <span style=\"color: #00ff00; text-decoration-color: #00ff00; font-weight: bold\">1982:1994</span> <span style=\"color: #008080; text-decoration-color: #008080; font-weight: bold\">60.00962461538462</span>\n",
       "</pre>\n"
      ],
      "text/plain": [
       "\u001b[1;36m1982\u001b[0m SST levels \u001b[1;92m1982:1994\u001b[0m \u001b[1;36m60.00962461538462\u001b[0m\n"
      ]
     },
     "metadata": {},
     "output_type": "display_data"
    },
    {
     "data": {
      "text/html": [
       "<pre style=\"white-space:pre;overflow-x:auto;line-height:normal;font-family:Menlo,'DejaVu Sans Mono',consolas,'Courier New',monospace\"><span style=\"color: #008080; text-decoration-color: #008080; font-weight: bold\">1982</span> SST levels <span style=\"color: #008080; text-decoration-color: #008080; font-weight: bold\">86.5032627027027</span>\n",
       "</pre>\n"
      ],
      "text/plain": [
       "\u001b[1;36m1982\u001b[0m SST levels \u001b[1;36m86.5032627027027\u001b[0m\n"
      ]
     },
     "metadata": {},
     "output_type": "display_data"
    },
    {
     "data": {
      "text/html": [
       "<pre style=\"white-space:pre;overflow-x:auto;line-height:normal;font-family:Menlo,'DejaVu Sans Mono',consolas,'Courier New',monospace\"><span style=\"color: #008080; text-decoration-color: #008080; font-weight: bold\">1900</span> SST levels <span style=\"color: #00ff00; text-decoration-color: #00ff00; font-weight: bold\">1982:1994</span> <span style=\"color: #008080; text-decoration-color: #008080; font-weight: bold\">51.93038461538462</span>\n",
       "</pre>\n"
      ],
      "text/plain": [
       "\u001b[1;36m1900\u001b[0m SST levels \u001b[1;92m1982:1994\u001b[0m \u001b[1;36m51.93038461538462\u001b[0m\n"
      ]
     },
     "metadata": {},
     "output_type": "display_data"
    },
    {
     "data": {
      "text/html": [
       "<pre style=\"white-space:pre;overflow-x:auto;line-height:normal;font-family:Menlo,'DejaVu Sans Mono',consolas,'Courier New',monospace\"><span style=\"color: #008080; text-decoration-color: #008080; font-weight: bold\">1900</span> SST levels <span style=\"color: #008080; text-decoration-color: #008080; font-weight: bold\">75.75406594594595</span>\n",
       "</pre>\n"
      ],
      "text/plain": [
       "\u001b[1;36m1900\u001b[0m SST levels \u001b[1;36m75.75406594594595\u001b[0m\n"
      ]
     },
     "metadata": {},
     "output_type": "display_data"
    }
   ],
   "source": [
    "# average ACE 1982-1994\n",
    "for scen in ['%s SST levels' %(yr) for yr in [0,2018,1982,1900]]:\n",
    "    DT = counterFacts[scen]\n",
    "    print('%s 1982:1994 %s' %(scen, DT['ACE'].loc[1982:1994,:].mean().values))\n",
    "    print('%s %s' %(scen, DT['ACE'].mean().values))\n"
   ]
  },
  {
   "cell_type": "code",
   "execution_count": 14,
   "metadata": {
    "collapsed": false
   },
   "outputs": [],
   "source": [
    "    year_groups = {\n",
    "        0 : {'years':all_years, 'color':'cyan', 'label':'all years', 'lsty':'-', 'eva':0.5, 'short':'all years'},\n",
    "        # 1 : {'years':[yr for yr in years if float(counterFacts['2018 SST levels']['ACE'].loc[yr].mean('run').values) >= 126.1], \\\n",
    "        #             'color':'red', 'label':'favorable large scale conditions', 'lsty':'--', 'eva':0.3, 'short':'favorable'},\n",
    "        2005 : {'years':[2005], 'color':'r', 'label':'2005', 'lsty':'-.', 'eva':0.4},\n",
    "        2017 : {'years':[2017], 'color':'m', 'label':'2017', 'lsty':'-.', 'eva':0.4},\n",
    "        2018 : {'years':[2018], 'color':'b', 'label':'2018', 'lsty':'-.', 'eva':0.4},\n",
    "    }\n",
    "    indicator_dict = {\n",
    "        'ACE225' : {'name':'ACE','label':'ACE', 'threshold':225},\n",
    "        # 'ACE159.6' : {'name':'ACE','label':'ACE', 'threshold':159.6},\n",
    "        # 'ACE126.1' : {'name':'ACE','label':'ACE', 'threshold':126.1},\n",
    "        # 'MajHur' : {'name':'MajHur', 'label':'major hurricanes', 'threshold':4.5},\n",
    "        # 'Hur' : {'name':'Hur','label':'hurricanes', 'threshold':9.2},\n",
    "    }\n",
    "\n",
    "    ##################################\n",
    "    # CDFs with difference highlight #\n",
    "    ##################################\n",
    "    for ind,indDT in indicator_dict.items():\n",
    "        indicator = indDT['name']\n",
    "        threshold = indDT['threshold']\n",
    "        tmp = np.concatenate([d[indicator].values.flatten() for d in counterFacts.values()])\n",
    "        X = np.linspace(tmp.min(),tmp.max(),1000)\n",
    "        bw = (tmp.max() - tmp.min()) / 20\n",
    "        fig,ax = plt.subplots(nrows=1, ncols=1, figsize=(4,3))\n",
    "        # ax.set_title(indicator_name)\n",
    "        for threshold in [225]:\n",
    "            ax.axvline(x=threshold, color='gray')\n",
    "            ax.annotate(threshold, xy=(threshold, 0), rotation=90, ha='center', va='bottom', backgroundcolor='w')\n",
    "        intersects = pd.DataFrame()\n",
    "        for yrName,yrDT in year_groups.items():\n",
    "            ys = []\n",
    "            for scen in ['%s SST levels' %(yr) for yr in [2018,1982,1900]]:\n",
    "                DT = counterFacts[scen]\n",
    "                tmp = DT[indicator][np.isin(DT[indicator].year,yrDT['years'])].values.reshape(-1, 1)\n",
    "                kde = KernelDensity(kernel='gaussian', bandwidth=bw).fit(tmp)\n",
    "                log_dens = kde.score_samples(X.reshape(-1, 1))\n",
    "                y = np.exp(log_dens) / np.exp(log_dens).sum()\n",
    "                ax.plot(X, np.cumsum(y), color=yrDT['color'], linestyle=DT['lsty'], zorder=10)\n",
    "                ys.append(np.cumsum(y))\n",
    "\n",
    "            ax.fill_between(X, ys[0], ys[2], color=yrDT['color'], alpha=0.3, zorder=10)\n",
    "\n",
    "        for scen in ['%s SST levels' %(yr) for yr in [2018,1982,1900]]:\n",
    "            DT = counterFacts[scen]\n",
    "            ax.plot([],[],color='k', linestyle=DT['lsty'], label=DT['label'])\n",
    "\n",
    "        for yrName,yrDT in year_groups.items():\n",
    "            ax.plot([],[],color=yrDT['color'], label=yrDT['label'])\n",
    "\n",
    "        ax.set_xlabel(indDT['label'])\n",
    "        ax.legend(fontsize=6)\n",
    "\n",
    "        if ind == 'ACE225':\n",
    "            ax.annotate('A', xy=(-0.1,1.1), xycoords='axes fraction', fontweight='bold', backgroundcolor='w', ha='left', va='top', fontsize=12)\n",
    "        plt.savefig(emu._dir+'/'+emu._tag+'/counter_2009-2018/'+indicator+'_cdf_thresh'+str(threshold)+'.png', bbox_inches='tight', dpi=400); plt.close()\n",
    "\n"
   ]
  },
  {
   "cell_type": "code",
   "execution_count": 21,
   "metadata": {
    "collapsed": false
   },
   "outputs": [
    {
     "data": {
      "text/html": [
       "<pre style=\"white-space:pre;overflow-x:auto;line-height:normal;font-family:Menlo,'DejaVu Sans Mono',consolas,'Courier New',monospace\">ACE225 <span style=\"color: #008080; text-decoration-color: #008080; font-weight: bold\">0</span> FAR <span style=\"color: #008080; text-decoration-color: #008080; font-weight: bold\">29.59381044487428</span>\n",
       "</pre>\n"
      ],
      "text/plain": [
       "ACE225 \u001b[1;36m0\u001b[0m FAR \u001b[1;36m29.59381044487428\u001b[0m\n"
      ]
     },
     "metadata": {},
     "output_type": "display_data"
    },
    {
     "data": {
      "text/html": [
       "<pre style=\"white-space:pre;overflow-x:auto;line-height:normal;font-family:Menlo,'DejaVu Sans Mono',consolas,'Courier New',monospace\">ACE225 <span style=\"color: #008080; text-decoration-color: #008080; font-weight: bold\">2005</span> FAR <span style=\"color: #008080; text-decoration-color: #008080; font-weight: bold\">28.387096774193544</span>\n",
       "</pre>\n"
      ],
      "text/plain": [
       "ACE225 \u001b[1;36m2005\u001b[0m FAR \u001b[1;36m28.387096774193544\u001b[0m\n"
      ]
     },
     "metadata": {},
     "output_type": "display_data"
    },
    {
     "data": {
      "text/html": [
       "<pre style=\"white-space:pre;overflow-x:auto;line-height:normal;font-family:Menlo,'DejaVu Sans Mono',consolas,'Courier New',monospace\">ACE225 <span style=\"color: #008080; text-decoration-color: #008080; font-weight: bold\">2017</span> FAR <span style=\"color: #008080; text-decoration-color: #008080; font-weight: bold\">18.604651162790688</span>\n",
       "</pre>\n"
      ],
      "text/plain": [
       "ACE225 \u001b[1;36m2017\u001b[0m FAR \u001b[1;36m18.604651162790688\u001b[0m\n"
      ]
     },
     "metadata": {},
     "output_type": "display_data"
    },
    {
     "data": {
      "text/html": [
       "<pre style=\"white-space:pre;overflow-x:auto;line-height:normal;font-family:Menlo,'DejaVu Sans Mono',consolas,'Courier New',monospace\">ACE225 <span style=\"color: #008080; text-decoration-color: #008080; font-weight: bold\">0</span> FAR <span style=\"color: #008080; text-decoration-color: #008080; font-weight: bold\">68.66537717601547</span>\n",
       "</pre>\n"
      ],
      "text/plain": [
       "ACE225 \u001b[1;36m0\u001b[0m FAR \u001b[1;36m68.66537717601547\u001b[0m\n"
      ]
     },
     "metadata": {},
     "output_type": "display_data"
    },
    {
     "data": {
      "text/html": [
       "<pre style=\"white-space:pre;overflow-x:auto;line-height:normal;font-family:Menlo,'DejaVu Sans Mono',consolas,'Courier New',monospace\">ACE225 <span style=\"color: #008080; text-decoration-color: #008080; font-weight: bold\">2005</span> FAR <span style=\"color: #008080; text-decoration-color: #008080; font-weight: bold\">62.58064516129031</span>\n",
       "</pre>\n"
      ],
      "text/plain": [
       "ACE225 \u001b[1;36m2005\u001b[0m FAR \u001b[1;36m62.58064516129031\u001b[0m\n"
      ]
     },
     "metadata": {},
     "output_type": "display_data"
    },
    {
     "data": {
      "text/html": [
       "<pre style=\"white-space:pre;overflow-x:auto;line-height:normal;font-family:Menlo,'DejaVu Sans Mono',consolas,'Courier New',monospace\">ACE225 <span style=\"color: #008080; text-decoration-color: #008080; font-weight: bold\">2017</span> FAR <span style=\"color: #008080; text-decoration-color: #008080; font-weight: bold\">65.11627906976744</span>\n",
       "</pre>\n"
      ],
      "text/plain": [
       "ACE225 \u001b[1;36m2017\u001b[0m FAR \u001b[1;36m65.11627906976744\u001b[0m\n"
      ]
     },
     "metadata": {},
     "output_type": "display_data"
    }
   ],
   "source": [
    "    ############\n",
    "    # FAR 2017 #\n",
    "    ############\n",
    "    # year_groups.pop(2018)\n",
    "\n",
    "    N = 1000\n",
    "    for ind,indDT in indicator_dict.items():\n",
    "        indicator = indDT['name']\n",
    "        threshold = indDT['threshold']\n",
    "        fig,ax = plt.subplots(nrows=1, ncols=1, figsize=(5,3))\n",
    "        # ax.set_title(indicator)\n",
    "        ref = counterFacts['%s SST levels' %(2018)][indicator]\n",
    "        for scen in ['%s SST levels' %(yr) for yr in [1982,1900]]:\n",
    "            DT = counterFacts[scen]\n",
    "            counter = DT[indicator]\n",
    "            for yrName,yrDT in year_groups.items():\n",
    "                yrs = yrDT['years']\n",
    "                FAR,IR = [],[]\n",
    "                for i in range(N):\n",
    "                    probRef = np.sum(np.random.choice(ref[np.isin(ref.year,yrs)].values.flatten(), size=int(0.5*N), replace=True) >= threshold) / (0.5*N)\n",
    "                    probCounter = np.sum(np.random.choice(counter[np.isin(counter.year,yrs)].values.flatten(), size=int(0.5*N), replace=True) >= threshold) / (0.5*N)\n",
    "                    FAR.append(1 - probCounter / probRef)\n",
    "                    IR.append(probRef / probCounter)\n",
    "                if '1982' in scen:\n",
    "                    ax.hist(FAR, bins=np.linspace(0,1,20), density=True, linestyle=DT['lsty'], color=yrDT['color'], alpha=0.5)\n",
    "\n",
    "                probRef = np.sum(ref[np.isin(ref.year,yrs)].values.flatten() >= threshold) / len(ref[np.isin(ref.year,yrs)].values.flatten())\n",
    "                probCounter = np.sum(counter[np.isin(ref.year,yrs)].values.flatten() >= threshold) / len(counter[np.isin(ref.year,yrs)].values.flatten())\n",
    "                FAR = 1 - probCounter / probRef\n",
    "                print('%s %s FAR %s' %(ind,yrName, FAR*100))\n",
    "                ax.axvline(x=FAR, linestyle=DT['lsty'], color=yrDT['color'])#, label=yrDT['label'])\n",
    "\n",
    "        ax.plot([],[],color='w', label='counterfactual scenario')\n",
    "        for scen in ['%s SST levels' %(yr) for yr in [1982,1900]]:\n",
    "            DT = counterFacts[scen]\n",
    "            ax.plot([],[],color='k', linestyle=DT['lsty'], label=DT['label'])\n",
    "\n",
    "        ax.plot([],[],color='w', label='weather conditions')\n",
    "        for yrName,yrDT in year_groups.items():\n",
    "            ax.plot([],[],color=yrDT['color'], label=yrDT['label'])\n",
    "\n",
    "        ax.set_xlabel('Fraction of risk attributable to SST warming')\n",
    "        ax.set_ylabel('estimated likelihood (normalized)')\n",
    "        ax.set_ylim(0,5)\n",
    "        ax2 = ax.twiny()\n",
    "        ax2.set_xticks([0.5,0.75,0.9])\n",
    "        ax2.set_xticklabels(['%sx' %(i) for i in [2,4,10]])\n",
    "        ax2.set_xlabel('Increase in risk')\n",
    "        ax.legend(fontsize=6, bbox_to_anchor=(1.05, 1), loc='upper left')\n",
    "        if ind == 'ACE225':\n",
    "            ax.annotate('B', xy=(-0.1,1.2), xycoords='axes fraction', fontweight='bold', backgroundcolor='w', ha='left', va='top', fontsize=12)\n",
    "        plt.savefig(emu._dir+'/'+emu._tag+'/counter_2009-2018/'+indicator+'_far_special_thresh'+str(threshold)+'.png', bbox_inches='tight', dpi=200); plt.close()\n"
   ]
  },
  {
   "cell_type": "code",
   "execution_count": 66,
   "metadata": {
    "collapsed": false
   },
   "outputs": [
    {
     "data": {
      "text/html": [
       "<pre style=\"white-space:pre;overflow-x:auto;line-height:normal;font-family:Menlo,'DejaVu Sans Mono',consolas,'Courier New',monospace\">prob of <span style=\"color: #008080; text-decoration-color: #008080; font-weight: bold\">225</span> ACE\n",
       "</pre>\n"
      ],
      "text/plain": [
       "prob of \u001b[1;36m225\u001b[0m ACE\n"
      ]
     },
     "metadata": {},
     "output_type": "display_data"
    },
    {
     "data": {
      "text/html": [
       "<pre style=\"white-space:pre;overflow-x:auto;line-height:normal;font-family:Menlo,'DejaVu Sans Mono',consolas,'Courier New',monospace\"><span style=\"color: #008080; text-decoration-color: #008080; font-weight: bold\">0</span> SST levels : <span style=\"color: #008080; text-decoration-color: #008080; font-weight: bold\">2.372972972972973</span>\n",
       "</pre>\n"
      ],
      "text/plain": [
       "\u001b[1;36m0\u001b[0m SST levels : \u001b[1;36m2.372972972972973\u001b[0m\n"
      ]
     },
     "metadata": {},
     "output_type": "display_data"
    },
    {
     "data": {
      "text/html": [
       "<pre style=\"white-space:pre;overflow-x:auto;line-height:normal;font-family:Menlo,'DejaVu Sans Mono',consolas,'Courier New',monospace\"><span style=\"color: #008080; text-decoration-color: #008080; font-weight: bold\">2018</span> SST levels : <span style=\"color: #008080; text-decoration-color: #008080; font-weight: bold\">2.7918918918918916</span>\n",
       "</pre>\n"
      ],
      "text/plain": [
       "\u001b[1;36m2018\u001b[0m SST levels : \u001b[1;36m2.7918918918918916\u001b[0m\n"
      ]
     },
     "metadata": {},
     "output_type": "display_data"
    },
    {
     "data": {
      "text/html": [
       "<pre style=\"white-space:pre;overflow-x:auto;line-height:normal;font-family:Menlo,'DejaVu Sans Mono',consolas,'Courier New',monospace\"><span style=\"color: #008080; text-decoration-color: #008080; font-weight: bold\">1982</span> SST levels : <span style=\"color: #008080; text-decoration-color: #008080; font-weight: bold\">1.9675675675675675</span>\n",
       "</pre>\n"
      ],
      "text/plain": [
       "\u001b[1;36m1982\u001b[0m SST levels : \u001b[1;36m1.9675675675675675\u001b[0m\n"
      ]
     },
     "metadata": {},
     "output_type": "display_data"
    },
    {
     "data": {
      "text/html": [
       "<pre style=\"white-space:pre;overflow-x:auto;line-height:normal;font-family:Menlo,'DejaVu Sans Mono',consolas,'Courier New',monospace\"><span style=\"color: #008080; text-decoration-color: #008080; font-weight: bold\">1900</span> SST levels : <span style=\"color: #008080; text-decoration-color: #008080; font-weight: bold\">0.872972972972973</span>\n",
       "</pre>\n"
      ],
      "text/plain": [
       "\u001b[1;36m1900\u001b[0m SST levels : \u001b[1;36m0.872972972972973\u001b[0m\n"
      ]
     },
     "metadata": {},
     "output_type": "display_data"
    }
   ],
   "source": [
    "print('prob of 225 ACE')\n",
    "for scen in ['%s SST levels' %(yr) for yr in [0,2018,1982,1900]]:\n",
    "    DT = counterFacts[scen]\n",
    "    tmp = DT['ACE']\n",
    "    print('%s : %s' %(scen, np.sum(tmp > 225).values / tmp.values.flatten().shape[0] * 100))\n"
   ]
  },
  {
   "cell_type": "code",
   "execution_count": 64,
   "metadata": {
    "collapsed": false
   },
   "outputs": [
    {
     "data": {
      "text/html": [
       "<pre style=\"white-space:pre;overflow-x:auto;line-height:normal;font-family:Menlo,'DejaVu Sans Mono',consolas,'Courier New',monospace\">prob of <span style=\"color: #008080; text-decoration-color: #008080; font-weight: bold\">225</span> ACE with <span style=\"color: #008080; text-decoration-color: #008080; font-weight: bold\">2017</span> conditions\n",
       "</pre>\n"
      ],
      "text/plain": [
       "prob of \u001b[1;36m225\u001b[0m ACE with \u001b[1;36m2017\u001b[0m conditions\n"
      ]
     },
     "metadata": {},
     "output_type": "display_data"
    },
    {
     "data": {
      "text/html": [
       "<pre style=\"white-space:pre;overflow-x:auto;line-height:normal;font-family:Menlo,'DejaVu Sans Mono',consolas,'Courier New',monospace\"><span style=\"color: #008080; text-decoration-color: #008080; font-weight: bold\">0</span> SST levels : <span style=\"color: #008080; text-decoration-color: #008080; font-weight: bold\">3.0</span>\n",
       "</pre>\n"
      ],
      "text/plain": [
       "\u001b[1;36m0\u001b[0m SST levels : \u001b[1;36m3.0\u001b[0m\n"
      ]
     },
     "metadata": {},
     "output_type": "display_data"
    },
    {
     "data": {
      "text/html": [
       "<pre style=\"white-space:pre;overflow-x:auto;line-height:normal;font-family:Menlo,'DejaVu Sans Mono',consolas,'Courier New',monospace\"><span style=\"color: #008080; text-decoration-color: #008080; font-weight: bold\">2018</span> SST levels : <span style=\"color: #008080; text-decoration-color: #008080; font-weight: bold\">4.2</span>\n",
       "</pre>\n"
      ],
      "text/plain": [
       "\u001b[1;36m2018\u001b[0m SST levels : \u001b[1;36m4.2\u001b[0m\n"
      ]
     },
     "metadata": {},
     "output_type": "display_data"
    },
    {
     "data": {
      "text/html": [
       "<pre style=\"white-space:pre;overflow-x:auto;line-height:normal;font-family:Menlo,'DejaVu Sans Mono',consolas,'Courier New',monospace\"><span style=\"color: #008080; text-decoration-color: #008080; font-weight: bold\">1982</span> SST levels : <span style=\"color: #008080; text-decoration-color: #008080; font-weight: bold\">3.5000000000000004</span>\n",
       "</pre>\n"
      ],
      "text/plain": [
       "\u001b[1;36m1982\u001b[0m SST levels : \u001b[1;36m3.5000000000000004\u001b[0m\n"
      ]
     },
     "metadata": {},
     "output_type": "display_data"
    },
    {
     "data": {
      "text/html": [
       "<pre style=\"white-space:pre;overflow-x:auto;line-height:normal;font-family:Menlo,'DejaVu Sans Mono',consolas,'Courier New',monospace\"><span style=\"color: #008080; text-decoration-color: #008080; font-weight: bold\">1900</span> SST levels : <span style=\"color: #008080; text-decoration-color: #008080; font-weight: bold\">1.5</span>\n",
       "</pre>\n"
      ],
      "text/plain": [
       "\u001b[1;36m1900\u001b[0m SST levels : \u001b[1;36m1.5\u001b[0m\n"
      ]
     },
     "metadata": {},
     "output_type": "display_data"
    }
   ],
   "source": [
    "print('prob of 225 ACE with 2017 conditions')\n",
    "for scen in ['%s SST levels' %(yr) for yr in [0,2018,1982,1900]]:\n",
    "    DT = counterFacts[scen]\n",
    "    tmp = DT['ACE'].loc[2017]\n",
    "    print('%s : %s' %(scen, np.sum(tmp > 225).values / tmp.values.flatten().shape[0] * 100))\n"
   ]
  },
  {
   "cell_type": "code",
   "execution_count": 67,
   "metadata": {
    "collapsed": false
   },
   "outputs": [
    {
     "data": {
      "text/html": [
       "<pre style=\"white-space:pre;overflow-x:auto;line-height:normal;font-family:Menlo,'DejaVu Sans Mono',consolas,'Courier New',monospace\">prob of <span style=\"color: #008080; text-decoration-color: #008080; font-weight: bold\">225</span> ACE with <span style=\"color: #008080; text-decoration-color: #008080; font-weight: bold\">2005</span> conditions\n",
       "</pre>\n"
      ],
      "text/plain": [
       "prob of \u001b[1;36m225\u001b[0m ACE with \u001b[1;36m2005\u001b[0m conditions\n"
      ]
     },
     "metadata": {},
     "output_type": "display_data"
    },
    {
     "data": {
      "text/html": [
       "<pre style=\"white-space:pre;overflow-x:auto;line-height:normal;font-family:Menlo,'DejaVu Sans Mono',consolas,'Courier New',monospace\"><span style=\"color: #008080; text-decoration-color: #008080; font-weight: bold\">0</span> SST levels : <span style=\"color: #008080; text-decoration-color: #008080; font-weight: bold\">14.000000000000002</span>\n",
       "</pre>\n"
      ],
      "text/plain": [
       "\u001b[1;36m0\u001b[0m SST levels : \u001b[1;36m14.000000000000002\u001b[0m\n"
      ]
     },
     "metadata": {},
     "output_type": "display_data"
    },
    {
     "data": {
      "text/html": [
       "<pre style=\"white-space:pre;overflow-x:auto;line-height:normal;font-family:Menlo,'DejaVu Sans Mono',consolas,'Courier New',monospace\"><span style=\"color: #008080; text-decoration-color: #008080; font-weight: bold\">2018</span> SST levels : <span style=\"color: #008080; text-decoration-color: #008080; font-weight: bold\">15.5</span>\n",
       "</pre>\n"
      ],
      "text/plain": [
       "\u001b[1;36m2018\u001b[0m SST levels : \u001b[1;36m15.5\u001b[0m\n"
      ]
     },
     "metadata": {},
     "output_type": "display_data"
    },
    {
     "data": {
      "text/html": [
       "<pre style=\"white-space:pre;overflow-x:auto;line-height:normal;font-family:Menlo,'DejaVu Sans Mono',consolas,'Courier New',monospace\"><span style=\"color: #008080; text-decoration-color: #008080; font-weight: bold\">1982</span> SST levels : <span style=\"color: #008080; text-decoration-color: #008080; font-weight: bold\">11.1</span>\n",
       "</pre>\n"
      ],
      "text/plain": [
       "\u001b[1;36m1982\u001b[0m SST levels : \u001b[1;36m11.1\u001b[0m\n"
      ]
     },
     "metadata": {},
     "output_type": "display_data"
    },
    {
     "data": {
      "text/html": [
       "<pre style=\"white-space:pre;overflow-x:auto;line-height:normal;font-family:Menlo,'DejaVu Sans Mono',consolas,'Courier New',monospace\"><span style=\"color: #008080; text-decoration-color: #008080; font-weight: bold\">1900</span> SST levels : <span style=\"color: #008080; text-decoration-color: #008080; font-weight: bold\">5.800000000000001</span>\n",
       "</pre>\n"
      ],
      "text/plain": [
       "\u001b[1;36m1900\u001b[0m SST levels : \u001b[1;36m5.800000000000001\u001b[0m\n"
      ]
     },
     "metadata": {},
     "output_type": "display_data"
    }
   ],
   "source": [
    "print('prob of 225 ACE with 2005 conditions')\n",
    "for scen in ['%s SST levels' %(yr) for yr in [0,2018,1982,1900]]:\n",
    "    DT = counterFacts[scen]\n",
    "    tmp = DT['ACE'].loc[2005]\n",
    "    print('%s : %s' %(scen, np.sum(tmp > 225).values / tmp.values.flatten().shape[0] * 100))\n"
   ]
  },
  {
   "cell_type": "code",
   "execution_count": null,
   "metadata": {
    "collapsed": false
   },
   "outputs": [],
   "source": []
  }
 ],
 "metadata": {
  "kernelspec": {
   "argv": [
    "/Users/peterpfleiderer/miniconda2/envs/py_tcs/bin/python",
    "-m",
    "ipykernel_launcher",
    "-f",
    "{connection_file}"
   ],
   "display_name": "py_tcs",
   "env": null,
   "interrupt_mode": "signal",
   "language": "python",
   "metadata": null,
   "name": "py_tcs"
  },
  "language_info": {
   "codemirror_mode": {
    "name": "ipython",
    "version": 3
   },
   "file_extension": ".py",
   "mimetype": "text/x-python",
   "name": "python",
   "nbconvert_exporter": "python",
   "pygments_lexer": "ipython3",
   "version": "3.7.6"
  },
  "name": "3_counterFactual_scenarios.ipynb"
 },
 "nbformat": 4,
 "nbformat_minor": 2
}
